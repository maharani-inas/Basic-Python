{
 "cells": [
  {
   "cell_type": "markdown",
   "metadata": {},
   "source": [
    "## Operasi string"
   ]
  },
  {
   "cell_type": "code",
   "execution_count": null,
   "metadata": {},
   "outputs": [],
   "source": [
    "#Upper\n",
    "name = \"Hans\"\n",
    "name_u = name.upper ()\n",
    "print(name_u)\n",
    "\n",
    "#Lower\n",
    "name = \"Anne\"\n",
    "name_l=name.lower()\n",
    "print(name_l)\n",
    "\n",
    "print(name.lower())"
   ]
  },
  {
   "cell_type": "code",
   "execution_count": null,
   "metadata": {},
   "outputs": [],
   "source": [
    "#lstrip\n",
    "rs=\"  Menschens\"\n",
    "print(rs.lstrip())\n",
    "#rstrip\n",
    "rs =\"Menschens  \"\n",
    "print(rs.rstrip())\n",
    "#strip\n",
    "s1= \"  Eins  \"\n",
    "s2= \"Zwei\"\n",
    "print(s1.strip()+s2)\n",
    "#strip for few abjad\n",
    "w=\"gimme gimme gimme that dough, tick tack toe\"\n",
    "print(w.strip('gimme '))"
   ]
  },
  {
   "cell_type": "code",
   "execution_count": null,
   "metadata": {},
   "outputs": [],
   "source": [
    "#Join\n",
    "print('-'.join(['Eins','.','Zwei']))\n",
    "#Split\n",
    "w=\"Hallo, Ich bin Duo\"\n",
    "w2 = w.split(\", Ich bin\")\n",
    "print(w2)"
   ]
  },
  {
   "cell_type": "code",
   "execution_count": null,
   "metadata": {},
   "outputs": [],
   "source": [
    "n=\"Tina fey\"\n",
    "n=n.replace(\"f\",\"F\")\n",
    "print(n)\n",
    "l=\"eight equals 8\"\n",
    "print(l.islower())\n",
    "print(l.isalpha())"
   ]
  },
  {
   "cell_type": "code",
   "execution_count": null,
   "metadata": {},
   "outputs": [],
   "source": [
    "n=\"tins fey\"\n",
    "print(n.capitalize())\n",
    "print(n.title())"
   ]
  },
  {
   "cell_type": "markdown",
   "metadata": {},
   "source": [
    "## Data Type Conversion"
   ]
  },
  {
   "cell_type": "code",
   "execution_count": null,
   "metadata": {},
   "outputs": [],
   "source": [
    "#String\n",
    "a=10\n",
    "print(type(a))\n",
    "a2=str(a)\n",
    "print(type(a2))\n",
    "print(a2)\n",
    "print(' ')\n",
    "\n",
    "#integer\n",
    "a=4.5\n",
    "print(type(a))\n",
    "a2=int(a)\n",
    "print(type(a2))\n",
    "print(' ')\n",
    "\n",
    "#float\n",
    "b=6\n",
    "print(type(b))\n",
    "print(float(b))"
   ]
  },
  {
   "cell_type": "code",
   "execution_count": null,
   "metadata": {},
   "outputs": [],
   "source": [
    "print('Hallo,{}'. format('All is Well'))"
   ]
  },
  {
   "cell_type": "code",
   "execution_count": null,
   "metadata": {},
   "outputs": [],
   "source": [
    "v=\"Haters\"\n",
    "print('Got no time for %s' %v)\n",
    "v=9735\n",
    "print('Your number is %d' %v)"
   ]
  },
  {
   "cell_type": "code",
   "execution_count": 80,
   "metadata": {},
   "outputs": [
    {
     "name": "stdout",
     "output_type": "stream",
     "text": [
      "Wie heisst du? Karl\n",
      "<class 'str'>\n"
     ]
    }
   ],
   "source": [
    "n1=input('Wie heisst du? ')\n",
    "print(type(n1))"
   ]
  },
  {
   "cell_type": "code",
   "execution_count": 79,
   "metadata": {},
   "outputs": [
    {
     "name": "stdout",
     "output_type": "stream",
     "text": [
      "Input your number? 9\n",
      "167\n"
     ]
    }
   ],
   "source": [
    "t=input('Input your number? ')\n",
    "t2=158\n",
    "t3=int(t)+t2\n",
    "print (t3)"
   ]
  },
  {
   "cell_type": "code",
   "execution_count": null,
   "metadata": {},
   "outputs": [],
   "source": [
    "x=20\n",
    "y=100\n",
    "w=y<x\n",
    "print(w)\n",
    "if w==True :\n",
    "    print (\"Small\")\n",
    "else:\n",
    "    print(\"Big\")"
   ]
  },
  {
   "cell_type": "code",
   "execution_count": 78,
   "metadata": {},
   "outputs": [
    {
     "name": "stdout",
     "output_type": "stream",
     "text": [
      "input your number : 6\n",
      "True\n",
      "6 is smaller than 10\n"
     ]
    }
   ],
   "source": [
    "x1=int(input(\"input your number : \"))\n",
    "y1=10\n",
    "w=x1<y1\n",
    "print(w)\n",
    "if w==True :\n",
    "    print (x1, 'is smaller than', y1)\n",
    "else:\n",
    "    print(x1, 'is bigger than', y1)"
   ]
  },
  {
   "cell_type": "code",
   "execution_count": 77,
   "metadata": {},
   "outputs": [
    {
     "name": "stdout",
     "output_type": "stream",
     "text": [
      "Your name : Lea\n",
      "Score : 75\n",
      "Hallo  Lea\n",
      "You Got B, Lea!\n"
     ]
    }
   ],
   "source": [
    "yn=input(\"Your name : \")\n",
    "tn = int(input(\"Score : \"))\n",
    "tx=100\n",
    "print(\"Hallo \", yn)\n",
    "if tn>=80:\n",
    "    print(\"You Got A, %s!\"%yn)\n",
    "elif tn>60:\n",
    "    print(\"You Got B, %s!\"%yn)\n",
    "elif tn>40:\n",
    "    print(\"You Got C, %s!\"%yn)\n",
    "elif tn>20:\n",
    "    print(\"You Got D, %s!\"%yn)\n",
    "else:\n",
    "    print(\"You Got E, %s!\"%yn)\n",
    "    \n"
   ]
  },
  {
   "cell_type": "code",
   "execution_count": 76,
   "metadata": {},
   "outputs": [
    {
     "name": "stdout",
     "output_type": "stream",
     "text": [
      "Ich komme aus Deutsch\n",
      "Ich komme aus Italien\n",
      "Ich komme aus England\n"
     ]
    }
   ],
   "source": [
    "g=['Deutsch','Italien','England']\n",
    "for elemen in g:\n",
    "    print(\"Ich komme aus %s\" %elemen)"
   ]
  },
  {
   "cell_type": "code",
   "execution_count": 75,
   "metadata": {},
   "outputs": [
    {
     "name": "stdout",
     "output_type": "stream",
     "text": [
      "4\n",
      "6\n",
      "8\n",
      "10\n",
      "12\n",
      "14\n",
      "16\n"
     ]
    }
   ],
   "source": [
    "t=2\n",
    "while t<15:\n",
    "    t=t+2\n",
    "    print(t)"
   ]
  },
  {
   "cell_type": "code",
   "execution_count": 89,
   "metadata": {},
   "outputs": [
    {
     "name": "stdout",
     "output_type": "stream",
     "text": [
      "input your number : 7\n",
      "[1, 2, 3, 4, 5, 6, 7, 8, 9, 10]\n"
     ]
    }
   ],
   "source": [
    "ia= int(input(\"input your number : \"))\n",
    "a=[1,2,3,4,5,6,7,8,9,10]\n",
    "for ia in a:\n",
    "    print(a)\n",
    "    if a==ia:\n",
    "        print(\"Number %d is in our database\" %ia)\n",
    "    break"
   ]
  },
  {
   "cell_type": "code",
   "execution_count": null,
   "metadata": {},
   "outputs": [],
   "source": []
  }
 ],
 "metadata": {
  "kernelspec": {
   "display_name": "Python 3",
   "language": "python",
   "name": "python3"
  },
  "language_info": {
   "codemirror_mode": {
    "name": "ipython",
    "version": 3
   },
   "file_extension": ".py",
   "mimetype": "text/x-python",
   "name": "python",
   "nbconvert_exporter": "python",
   "pygments_lexer": "ipython3",
   "version": "3.9.0"
  }
 },
 "nbformat": 4,
 "nbformat_minor": 4
}
