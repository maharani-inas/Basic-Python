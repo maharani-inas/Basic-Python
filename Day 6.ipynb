{
 "metadata": {
  "language_info": {
   "codemirror_mode": {
    "name": "ipython",
    "version": 3
   },
   "file_extension": ".py",
   "mimetype": "text/x-python",
   "name": "python",
   "nbconvert_exporter": "python",
   "pygments_lexer": "ipython3",
   "version": "3.9.0-final"
  },
  "orig_nbformat": 2,
  "kernelspec": {
   "name": "python3",
   "display_name": "Python 3"
  }
 },
 "nbformat": 4,
 "nbformat_minor": 2,
 "cells": [
  {
   "source": [
    "# Class pada Python"
   ],
   "cell_type": "markdown",
   "metadata": {}
  },
  {
   "cell_type": "code",
   "execution_count": 7,
   "metadata": {},
   "outputs": [
    {
     "output_type": "stream",
     "name": "stdout",
     "text": [
      "Nama :  Neymar No. Punggung :  45\n"
     ]
    }
   ],
   "source": [
    "class Pemain:\n",
    "    pass\n",
    "\n",
    "obj=Pemain()\n",
    "obj.nama=\"Neymar\"\n",
    "obj.no_punggung =\"45\"\n",
    "print(\"Nama : \", obj.nama, \"No. Punggung : \",obj.no_punggung)"
   ]
  },
  {
   "source": [
    "# Init"
   ],
   "cell_type": "markdown",
   "metadata": {}
  },
  {
   "cell_type": "code",
   "execution_count": 3,
   "metadata": {},
   "outputs": [
    {
     "output_type": "stream",
     "name": "stdout",
     "text": [
      "Neymar\n"
     ]
    }
   ],
   "source": [
    "class Pemain:\n",
    " \n",
    "    def __init__ (self):\n",
    "        self.name =\"Neymar\"\n",
    "        self.umur = \"48\"\n",
    "\n",
    "pemain = Pemain()\n",
    "print(pemain.name)"
   ]
  },
  {
   "cell_type": "code",
   "execution_count": 8,
   "metadata": {},
   "outputs": [
    {
     "output_type": "stream",
     "name": "stdout",
     "text": [
      "<__main__.Pemain object at 0x000001B43AF5D730>\nNeymar\n"
     ]
    }
   ],
   "source": [
    "class Pemain:\n",
    "    nama = ''\n",
    "    umur = ''\n",
    "    power = ''\n",
    "    no_punggung = ''\n",
    "    def __init__ (self,nama,umur,power,no_punggung):\n",
    "        self.nama = nama\n",
    "        self.umur = umur\n",
    "        self.no_punggung=no_punggung\n",
    "\n",
    "pemain = Pemain('Neymar','40','90','20')\n",
    "print(pemain)\n",
    "print(pemain.nama)"
   ]
  },
  {
   "cell_type": "code",
   "execution_count": 9,
   "metadata": {},
   "outputs": [
    {
     "output_type": "stream",
     "name": "stdout",
     "text": [
      "Neymar\n"
     ]
    }
   ],
   "source": [
    "class Pemain:\n",
    "    nama = ''\n",
    "    umur = ''\n",
    "    power = ''\n",
    "    no_punggung = ''\n",
    "    def __init__ (self,nama,umur,power,no_punggung):\n",
    "        self.nama = nama\n",
    "        self.umur = umur\n",
    "        self.no_punggung=no_punggung\n",
    "    def getName(self):\n",
    "        return self.nama\n",
    "\n",
    "pemain = Pemain('Neymar','40','90','20')\n",
    "#print(pemain)\n",
    "#print(pemain.nama)\n",
    "print(pemain.getName())"
   ]
  },
  {
   "cell_type": "code",
   "execution_count": 13,
   "metadata": {},
   "outputs": [
    {
     "output_type": "stream",
     "name": "stdout",
     "text": [
      "Namanya adalah Neymar\nPower adalah \nUmurnya adalah 40\nNo Punggungnya adalah 20\nKewarganegaraannya adalah Ga tau\n"
     ]
    }
   ],
   "source": [
    "class Pemain:\n",
    "    nama = ''\n",
    "    umur = ''\n",
    "    power = ''\n",
    "    no_punggung = ''\n",
    "    def __init__ (self,nama,umur,power,no_punggung):\n",
    "        self.nama = nama\n",
    "        self.umur = umur\n",
    "        self.no_punggung=no_punggung\n",
    "    def getName(self):\n",
    "        return \"Namanya adalah \"+ self.nama\n",
    "    \n",
    "    def getPower(self):\n",
    "        return \"Power adalah \" + self.power\n",
    "    \n",
    "    def Getumur(self):\n",
    "         return \"Umurnya adalah \" + self.umur\n",
    "        \n",
    "    def GetNoPunggung(self):\n",
    "        return \"No Punggungnya adalah \" +self.no_punggung\n",
    "    def GetCitizen(self, citizen):\n",
    "        return \"Kewarganegaraannya adalah \" +citizen\n",
    "\n",
    "\n",
    "pemain = Pemain('Neymar','40','90','20')\n",
    "#print(pemain)\n",
    "#print(pemain.nama)\n",
    "print(pemain.getName())\n",
    "print(pemain.getPower())\n",
    "print(pemain.Getumur())\n",
    "print(pemain.GetNoPunggung())\n",
    "print(pemain.GetCitizen('Ga tau'))"
   ]
  },
  {
   "cell_type": "code",
   "execution_count": null,
   "metadata": {},
   "outputs": [],
   "source": []
  }
 ]
}