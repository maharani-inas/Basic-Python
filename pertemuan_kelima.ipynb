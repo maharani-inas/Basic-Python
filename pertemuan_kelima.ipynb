{
 "metadata": {
  "language_info": {
   "codemirror_mode": {
    "name": "ipython",
    "version": 3
   },
   "file_extension": ".py",
   "mimetype": "text/x-python",
   "name": "python",
   "nbconvert_exporter": "python",
   "pygments_lexer": "ipython3",
   "version": 3
  },
  "orig_nbformat": 2
 },
 "nbformat": 4,
 "nbformat_minor": 2,
 "cells": [
  {
   "cell_type": "code",
   "execution_count": 2,
   "metadata": {},
   "outputs": [
    {
     "output_type": "stream",
     "name": "stdout",
     "text": [
      "Bismillah\n"
     ]
    }
   ],
   "source": [
    "print(\"Bismillah\")"
   ]
  },
  {
   "source": [
    "# Operasi File"
   ],
   "cell_type": "markdown",
   "metadata": {}
  },
  {
   "source": [
    "## Membuat File"
   ],
   "cell_type": "markdown",
   "metadata": {}
  },
  {
   "cell_type": "code",
   "execution_count": 3,
   "metadata": {},
   "outputs": [],
   "source": [
    "# create file\n",
    "f = open('belajar.py','w')\n",
    "f.close()"
   ]
  },
  {
   "cell_type": "code",
   "execution_count": 4,
   "metadata": {},
   "outputs": [],
   "source": [
    "file = open('index.html','w')"
   ]
  },
  {
   "source": [
    "## Menulis di file"
   ],
   "cell_type": "markdown",
   "metadata": {}
  },
  {
   "cell_type": "code",
   "execution_count": 83,
   "metadata": {},
   "outputs": [],
   "source": [
    "tulisan = \"Hari ini saya belajar Python [ini dari variabel]\"\n",
    "f2 = open('belajar.py', 'w')\n",
    "f2.write(tulisan)\n",
    "f2.close()"
   ]
  },
  {
   "cell_type": "code",
   "execution_count": 9,
   "metadata": {},
   "outputs": [],
   "source": []
  },
  {
   "source": [
    "## Append"
   ],
   "cell_type": "markdown",
   "metadata": {}
  },
  {
   "cell_type": "code",
   "execution_count": 12,
   "metadata": {},
   "outputs": [],
   "source": [
    "txt = open('halo.txt','w')"
   ]
  },
  {
   "cell_type": "code",
   "execution_count": 14,
   "metadata": {},
   "outputs": [],
   "source": [
    "txt.write(\"Halo\")\n",
    "txt.close()"
   ]
  },
  {
   "cell_type": "code",
   "execution_count": 85,
   "metadata": {},
   "outputs": [],
   "source": [
    "append = open('halo.txt', 'a')"
   ]
  },
  {
   "cell_type": "code",
   "execution_count": 88,
   "metadata": {},
   "outputs": [],
   "source": [
    "text_append = \"Ini hasil Append dari variabel\"\n",
    "append.write(text_append)\n",
    "append.close()"
   ]
  },
  {
   "cell_type": "code",
   "execution_count": 17,
   "metadata": {},
   "outputs": [],
   "source": []
  },
  {
   "cell_type": "code",
   "execution_count": 18,
   "metadata": {},
   "outputs": [
    {
     "output_type": "execute_result",
     "data": {
      "text/plain": [
       "4"
      ]
     },
     "metadata": {},
     "execution_count": 18
    }
   ],
   "source": [
    "new = open('new.txt','w')\n",
    "new.write('test')"
   ]
  },
  {
   "cell_type": "code",
   "execution_count": 20,
   "metadata": {},
   "outputs": [],
   "source": [
    "new.close()"
   ]
  },
  {
   "cell_type": "code",
   "execution_count": 21,
   "metadata": {},
   "outputs": [],
   "source": [
    "new2 = open('new.txt', 'w')\n",
    "new2.write('Halo')\n",
    "new.close()"
   ]
  },
  {
   "cell_type": "code",
   "execution_count": 22,
   "metadata": {},
   "outputs": [],
   "source": [
    "new2.close()"
   ]
  },
  {
   "cell_type": "code",
   "execution_count": 23,
   "metadata": {},
   "outputs": [],
   "source": [
    "new3 = open('new.txt', 'a')\n",
    "new3.write('Ini hasil append')\n",
    "new3.close()"
   ]
  },
  {
   "source": [
    "## Membaca file"
   ],
   "cell_type": "markdown",
   "metadata": {}
  },
  {
   "cell_type": "code",
   "execution_count": 24,
   "metadata": {},
   "outputs": [
    {
     "output_type": "stream",
     "name": "stdout",
     "text": [
      "Hello WordlHari ini saya belajar Python\n"
     ]
    }
   ],
   "source": [
    "read = open('belajar.py', 'r').read()\n",
    "print(read)"
   ]
  },
  {
   "cell_type": "code",
   "execution_count": 26,
   "metadata": {},
   "outputs": [
    {
     "output_type": "stream",
     "name": "stdout",
     "text": [
      "32512\n"
     ]
    }
   ],
   "source": [
    "import os\n",
    "run = os.system('python3 namafile.extensi')"
   ]
  },
  {
   "source": [
    "# Direktori"
   ],
   "cell_type": "markdown",
   "metadata": {}
  },
  {
   "cell_type": "code",
   "execution_count": 29,
   "metadata": {},
   "outputs": [],
   "source": [
    "import os"
   ]
  },
  {
   "source": [
    "## Mendapatkan direktori kerja"
   ],
   "cell_type": "markdown",
   "metadata": {}
  },
  {
   "cell_type": "code",
   "execution_count": 28,
   "metadata": {},
   "outputs": [
    {
     "output_type": "execute_result",
     "data": {
      "text/plain": [
       "'/home/iqbaladudu/Documents/basic-python'"
      ]
     },
     "metadata": {},
     "execution_count": 28
    }
   ],
   "source": [
    "os.getcwd()"
   ]
  },
  {
   "source": [
    "## Membuat direktori baru"
   ],
   "cell_type": "markdown",
   "metadata": {}
  },
  {
   "cell_type": "code",
   "execution_count": 30,
   "metadata": {},
   "outputs": [],
   "source": [
    "os.mkdir('PertemuanLima')"
   ]
  },
  {
   "source": [
    "## Mengubah direktori"
   ],
   "cell_type": "markdown",
   "metadata": {}
  },
  {
   "cell_type": "code",
   "execution_count": 31,
   "metadata": {},
   "outputs": [],
   "source": [
    "os.chdir('/home/iqbaladudu/Documents/basic-python/PertemuanLima')"
   ]
  },
  {
   "cell_type": "code",
   "execution_count": 32,
   "metadata": {},
   "outputs": [
    {
     "output_type": "execute_result",
     "data": {
      "text/plain": [
       "'/home/iqbaladudu/Documents/basic-python/PertemuanLima'"
      ]
     },
     "metadata": {},
     "execution_count": 32
    }
   ],
   "source": [
    "os.getcwd()"
   ]
  },
  {
   "cell_type": "code",
   "execution_count": 33,
   "metadata": {},
   "outputs": [],
   "source": [
    "os.mkdir('Satu')"
   ]
  },
  {
   "cell_type": "code",
   "execution_count": 34,
   "metadata": {},
   "outputs": [],
   "source": [
    "os.chdir('/home/iqbaladudu/Documents/basic-python')"
   ]
  },
  {
   "cell_type": "code",
   "execution_count": 35,
   "metadata": {},
   "outputs": [
    {
     "output_type": "execute_result",
     "data": {
      "text/plain": [
       "'/home/iqbaladudu/Documents/basic-python'"
      ]
     },
     "metadata": {},
     "execution_count": 35
    }
   ],
   "source": [
    "os.getcwd()"
   ]
  },
  {
   "source": [
    "## Melihat isi dari direktori"
   ],
   "cell_type": "markdown",
   "metadata": {}
  },
  {
   "cell_type": "code",
   "execution_count": 36,
   "metadata": {},
   "outputs": [
    {
     "output_type": "stream",
     "name": "stdout",
     "text": [
      "['.ipynb_checkpoints', 'halo.txt', 'pertemuan_kelima.ipynb', 'index.html', 'file.py', 'New', 'pertemuan_kedua.ipynb', 'Pertemuan_keempat.ipynb', '.git', 'Pertemuan_tiga.ipynb', 'PertemuanLima', 'Untitled.ipynb', 'new.txt', 'pertemuan_pertama.ipynb', 'belajar.py', 'README.md']\n"
     ]
    }
   ],
   "source": [
    "ls = os.listdir()\n",
    "print(ls)"
   ]
  },
  {
   "cell_type": "code",
   "execution_count": 37,
   "metadata": {},
   "outputs": [
    {
     "output_type": "stream",
     "name": "stdout",
     "text": [
      "<class 'list'>\n"
     ]
    }
   ],
   "source": [
    "print(type(ls))"
   ]
  },
  {
   "cell_type": "code",
   "execution_count": 38,
   "metadata": {},
   "outputs": [
    {
     "output_type": "stream",
     "name": "stdout",
     "text": [
      ".ipynb_checkpoints\nhalo.txt\npertemuan_kelima.ipynb\nindex.html\nfile.py\nNew\npertemuan_kedua.ipynb\nPertemuan_keempat.ipynb\n.git\nPertemuan_tiga.ipynb\nPertemuanLima\nUntitled.ipynb\nnew.txt\npertemuan_pertama.ipynb\nbelajar.py\nREADME.md\n"
     ]
    }
   ],
   "source": [
    "for e in ls:\n",
    "    print(e)"
   ]
  },
  {
   "source": [
    "## Rename"
   ],
   "cell_type": "markdown",
   "metadata": {}
  },
  {
   "cell_type": "code",
   "execution_count": 39,
   "metadata": {},
   "outputs": [],
   "source": [
    "os.rename('PertemuanLima', 'Lima')"
   ]
  },
  {
   "cell_type": "code",
   "execution_count": 41,
   "metadata": {},
   "outputs": [
    {
     "output_type": "stream",
     "name": "stdout",
     "text": [
      ".ipynb_checkpoints\nhalo.txt\npertemuan_kelima.ipynb\nindex.html\nfile.py\nNew\npertemuan_kedua.ipynb\nPertemuan_keempat.ipynb\n.git\nPertemuan_tiga.ipynb\nLima\nUntitled.ipynb\nnew.txt\npertemuan_pertama.ipynb\nbelajar.py\nREADME.md\n"
     ]
    }
   ],
   "source": [
    "li = os.listdir()\n",
    "for i in li:\n",
    "    print(i)"
   ]
  },
  {
   "source": [
    "## Menghapus file"
   ],
   "cell_type": "markdown",
   "metadata": {}
  },
  {
   "cell_type": "code",
   "execution_count": 42,
   "metadata": {},
   "outputs": [
    {
     "output_type": "stream",
     "name": "stdout",
     "text": [
      "['.ipynb_checkpoints', 'halo.txt', 'pertemuan_kelima.ipynb', 'index.html', 'file.py', 'New', 'pertemuan_kedua.ipynb', 'Pertemuan_keempat.ipynb', '.git', 'Pertemuan_tiga.ipynb', 'Lima', 'Untitled.ipynb', 'new.txt', 'pertemuan_pertama.ipynb', 'belajar.py', 'README.md']\n"
     ]
    }
   ],
   "source": [
    "list_dir = os.listdir()\n",
    "print(list_dir)"
   ]
  },
  {
   "cell_type": "code",
   "execution_count": 44,
   "metadata": {},
   "outputs": [
    {
     "output_type": "stream",
     "name": "stdout",
     "text": [
      "New.txt tidak ada\nNew.txt tidak ada\nNew.txt tidak ada\nNew.txt tidak ada\nNew.txt tidak ada\nNew.txt tidak ada\nNew.txt tidak ada\nNew.txt tidak ada\nNew.txt tidak ada\nNew.txt tidak ada\nNew.txt tidak ada\nNew.txt tidak ada\nNew.txt ada!\nNew.txt tidak ada\nNew.txt tidak ada\nNew.txt tidak ada\n"
     ]
    }
   ],
   "source": [
    "for e in list_dir:\n",
    "    if e == 'new.txt':\n",
    "        print('New.txt ada!')\n",
    "    else:\n",
    "        print('New.txt tidak ada')"
   ]
  },
  {
   "cell_type": "code",
   "execution_count": 45,
   "metadata": {},
   "outputs": [],
   "source": [
    "os.remove('new.txt')"
   ]
  },
  {
   "cell_type": "code",
   "execution_count": 46,
   "metadata": {},
   "outputs": [
    {
     "output_type": "stream",
     "name": "stdout",
     "text": [
      "New.txt tidak ada\nNew.txt tidak ada\nNew.txt tidak ada\nNew.txt tidak ada\nNew.txt tidak ada\nNew.txt tidak ada\nNew.txt tidak ada\nNew.txt tidak ada\nNew.txt tidak ada\nNew.txt tidak ada\nNew.txt tidak ada\nNew.txt tidak ada\nNew.txt tidak ada\nNew.txt tidak ada\nNew.txt tidak ada\n"
     ]
    }
   ],
   "source": [
    "list_baru = os.listdir()\n",
    "for i in list_baru:\n",
    "    if e == 'new.txt':\n",
    "        print('New.txt ada!')\n",
    "    else:\n",
    "        print('New.txt tidak ada')"
   ]
  },
  {
   "source": [
    "## Menghapus Folder"
   ],
   "cell_type": "markdown",
   "metadata": {}
  },
  {
   "cell_type": "code",
   "execution_count": 47,
   "metadata": {},
   "outputs": [],
   "source": [
    "os.mkdir(\"UntukDihapus\")"
   ]
  },
  {
   "cell_type": "code",
   "execution_count": 49,
   "metadata": {},
   "outputs": [],
   "source": [
    "os.rmdir('UntukDihapus')"
   ]
  },
  {
   "cell_type": "code",
   "execution_count": 50,
   "metadata": {},
   "outputs": [
    {
     "output_type": "error",
     "ename": "OSError",
     "evalue": "[Errno 39] Directory not empty: 'Lima'",
     "traceback": [
      "\u001b[0;31m---------------------------------------------------------------------------\u001b[0m",
      "\u001b[0;31mOSError\u001b[0m                                   Traceback (most recent call last)",
      "\u001b[0;32m<ipython-input-50-7db13dd55c20>\u001b[0m in \u001b[0;36m<module>\u001b[0;34m\u001b[0m\n\u001b[0;32m----> 1\u001b[0;31m \u001b[0mos\u001b[0m\u001b[0;34m.\u001b[0m\u001b[0mrmdir\u001b[0m\u001b[0;34m(\u001b[0m\u001b[0;34m'Lima'\u001b[0m\u001b[0;34m)\u001b[0m\u001b[0;34m\u001b[0m\u001b[0;34m\u001b[0m\u001b[0m\n\u001b[0m",
      "\u001b[0;31mOSError\u001b[0m: [Errno 39] Directory not empty: 'Lima'"
     ]
    }
   ],
   "source": [
    "os.rmdir('Lima')"
   ]
  },
  {
   "cell_type": "code",
   "execution_count": 51,
   "metadata": {},
   "outputs": [],
   "source": [
    "import shutil"
   ]
  },
  {
   "cell_type": "code",
   "execution_count": 52,
   "metadata": {},
   "outputs": [],
   "source": [
    "shutil.rmtree('Lima')"
   ]
  },
  {
   "source": [
    "# Exception"
   ],
   "cell_type": "markdown",
   "metadata": {}
  },
  {
   "source": [
    "## Syntax error"
   ],
   "cell_type": "markdown",
   "metadata": {}
  },
  {
   "cell_type": "code",
   "execution_count": 53,
   "metadata": {},
   "outputs": [
    {
     "output_type": "error",
     "ename": "SyntaxError",
     "evalue": "invalid syntax (<ipython-input-53-1887faaff6ce>, line 1)",
     "traceback": [
      "\u001b[0;36m  File \u001b[0;32m\"<ipython-input-53-1887faaff6ce>\"\u001b[0;36m, line \u001b[0;32m1\u001b[0m\n\u001b[0;31m    def hari:\u001b[0m\n\u001b[0m            ^\u001b[0m\n\u001b[0;31mSyntaxError\u001b[0m\u001b[0;31m:\u001b[0m invalid syntax\n"
     ]
    }
   ],
   "source": [
    "def hari:\n",
    "    print('Hai, hari ini ...')\n",
    "hari()"
   ]
  },
  {
   "source": [
    "## Runtime error"
   ],
   "cell_type": "markdown",
   "metadata": {}
  },
  {
   "cell_type": "code",
   "execution_count": 57,
   "metadata": {},
   "outputs": [
    {
     "output_type": "error",
     "ename": "ZeroDivisionError",
     "evalue": "division by zero",
     "traceback": [
      "\u001b[0;31m---------------------------------------------------------------------------\u001b[0m",
      "\u001b[0;31mZeroDivisionError\u001b[0m                         Traceback (most recent call last)",
      "\u001b[0;32m<ipython-input-57-e8fde049bf06>\u001b[0m in \u001b[0;36m<module>\u001b[0;34m\u001b[0m\n\u001b[1;32m      1\u001b[0m \u001b[0;32mdef\u001b[0m \u001b[0mbagi\u001b[0m\u001b[0;34m(\u001b[0m\u001b[0mbilangan_satu\u001b[0m\u001b[0;34m,\u001b[0m \u001b[0mbilangan_dua\u001b[0m\u001b[0;34m)\u001b[0m\u001b[0;34m:\u001b[0m\u001b[0;34m\u001b[0m\u001b[0;34m\u001b[0m\u001b[0m\n\u001b[1;32m      2\u001b[0m     \u001b[0mprint\u001b[0m\u001b[0;34m(\u001b[0m\u001b[0mbilangan_satu\u001b[0m\u001b[0;34m/\u001b[0m\u001b[0mbilangan_dua\u001b[0m\u001b[0;34m)\u001b[0m\u001b[0;34m\u001b[0m\u001b[0;34m\u001b[0m\u001b[0m\n\u001b[0;32m----> 3\u001b[0;31m \u001b[0mbagi\u001b[0m\u001b[0;34m(\u001b[0m\u001b[0;36m10\u001b[0m\u001b[0;34m,\u001b[0m\u001b[0;36m0\u001b[0m\u001b[0;34m)\u001b[0m\u001b[0;34m\u001b[0m\u001b[0;34m\u001b[0m\u001b[0m\n\u001b[0m",
      "\u001b[0;32m<ipython-input-57-e8fde049bf06>\u001b[0m in \u001b[0;36mbagi\u001b[0;34m(bilangan_satu, bilangan_dua)\u001b[0m\n\u001b[1;32m      1\u001b[0m \u001b[0;32mdef\u001b[0m \u001b[0mbagi\u001b[0m\u001b[0;34m(\u001b[0m\u001b[0mbilangan_satu\u001b[0m\u001b[0;34m,\u001b[0m \u001b[0mbilangan_dua\u001b[0m\u001b[0;34m)\u001b[0m\u001b[0;34m:\u001b[0m\u001b[0;34m\u001b[0m\u001b[0;34m\u001b[0m\u001b[0m\n\u001b[0;32m----> 2\u001b[0;31m     \u001b[0mprint\u001b[0m\u001b[0;34m(\u001b[0m\u001b[0mbilangan_satu\u001b[0m\u001b[0;34m/\u001b[0m\u001b[0mbilangan_dua\u001b[0m\u001b[0;34m)\u001b[0m\u001b[0;34m\u001b[0m\u001b[0;34m\u001b[0m\u001b[0m\n\u001b[0m\u001b[1;32m      3\u001b[0m \u001b[0mbagi\u001b[0m\u001b[0;34m(\u001b[0m\u001b[0;36m10\u001b[0m\u001b[0;34m,\u001b[0m\u001b[0;36m0\u001b[0m\u001b[0;34m)\u001b[0m\u001b[0;34m\u001b[0m\u001b[0;34m\u001b[0m\u001b[0m\n",
      "\u001b[0;31mZeroDivisionError\u001b[0m: division by zero"
     ]
    }
   ],
   "source": [
    "def bagi(bilangan_satu, bilangan_dua):\n",
    "    print(bilangan_satu/bilangan_dua)\n",
    "bagi(10,0)\n"
   ]
  },
  {
   "cell_type": "code",
   "execution_count": 58,
   "metadata": {},
   "outputs": [
    {
     "output_type": "error",
     "ename": "TypeError",
     "evalue": "can only concatenate str (not \"int\") to str",
     "traceback": [
      "\u001b[0;31m---------------------------------------------------------------------------\u001b[0m",
      "\u001b[0;31mTypeError\u001b[0m                                 Traceback (most recent call last)",
      "\u001b[0;32m<ipython-input-58-ee987940dbb7>\u001b[0m in \u001b[0;36m<module>\u001b[0;34m\u001b[0m\n\u001b[0;32m----> 1\u001b[0;31m \u001b[0mprint\u001b[0m\u001b[0;34m(\u001b[0m\u001b[0;34m'halo'\u001b[0m \u001b[0;34m+\u001b[0m \u001b[0;36m1\u001b[0m\u001b[0;34m)\u001b[0m\u001b[0;34m\u001b[0m\u001b[0;34m\u001b[0m\u001b[0m\n\u001b[0m",
      "\u001b[0;31mTypeError\u001b[0m: can only concatenate str (not \"int\") to str"
     ]
    }
   ],
   "source": [
    "print('halo' + 1)"
   ]
  },
  {
   "cell_type": "code",
   "execution_count": 63,
   "metadata": {},
   "outputs": [
    {
     "output_type": "stream",
     "name": "stdout",
     "text": [
      "Ini Pembagian\n"
     ]
    },
    {
     "output_type": "error",
     "ename": "ZeroDivisionError",
     "evalue": "division by zero",
     "traceback": [
      "\u001b[0;31m---------------------------------------------------------------------------\u001b[0m",
      "\u001b[0;31mZeroDivisionError\u001b[0m                         Traceback (most recent call last)",
      "\u001b[0;32m<ipython-input-63-24b7aa46efc6>\u001b[0m in \u001b[0;36m<module>\u001b[0;34m\u001b[0m\n\u001b[1;32m      3\u001b[0m     \u001b[0mpertama\u001b[0m \u001b[0;34m=\u001b[0m \u001b[0mint\u001b[0m\u001b[0;34m(\u001b[0m\u001b[0minput\u001b[0m\u001b[0;34m(\u001b[0m\u001b[0;34m'Masukkan bilangan pertama: '\u001b[0m\u001b[0;34m)\u001b[0m\u001b[0;34m)\u001b[0m\u001b[0;34m\u001b[0m\u001b[0;34m\u001b[0m\u001b[0m\n\u001b[1;32m      4\u001b[0m     \u001b[0mkedua\u001b[0m \u001b[0;34m=\u001b[0m \u001b[0mint\u001b[0m\u001b[0;34m(\u001b[0m\u001b[0minput\u001b[0m\u001b[0;34m(\u001b[0m\u001b[0;34m'Masukkan Bilangan kedua'\u001b[0m\u001b[0;34m)\u001b[0m\u001b[0;34m)\u001b[0m\u001b[0;34m\u001b[0m\u001b[0;34m\u001b[0m\u001b[0m\n\u001b[0;32m----> 5\u001b[0;31m     \u001b[0mhasil\u001b[0m \u001b[0;34m=\u001b[0m \u001b[0mpertama\u001b[0m\u001b[0;34m/\u001b[0m\u001b[0mkedua\u001b[0m\u001b[0;34m\u001b[0m\u001b[0;34m\u001b[0m\u001b[0m\n\u001b[0m\u001b[1;32m      6\u001b[0m     \u001b[0;32mbreak\u001b[0m\u001b[0;34m\u001b[0m\u001b[0;34m\u001b[0m\u001b[0m\n\u001b[1;32m      7\u001b[0m \u001b[0mprint\u001b[0m\u001b[0;34m(\u001b[0m\u001b[0;34m'Ditampilkan, berarti ga ada error'\u001b[0m\u001b[0;34m)\u001b[0m\u001b[0;34m\u001b[0m\u001b[0;34m\u001b[0m\u001b[0m\n",
      "\u001b[0;31mZeroDivisionError\u001b[0m: division by zero"
     ]
    }
   ],
   "source": [
    "print('Ini Pembagian')\n",
    "while True:\n",
    "    pertama = int(input('Masukkan bilangan pertama: '))\n",
    "    kedua = int(input('Masukkan Bilangan kedua'))\n",
    "    hasil = pertama/kedua\n",
    "    break\n",
    "print('Ditampilkan, berarti ga ada error')\n",
    "print(hasil)"
   ]
  },
  {
   "source": [
    "## Try / Except"
   ],
   "cell_type": "markdown",
   "metadata": {}
  },
  {
   "cell_type": "code",
   "execution_count": 66,
   "metadata": {},
   "outputs": [
    {
     "output_type": "stream",
     "name": "stdout",
     "text": [
      "Program Pembagian V 2\n",
      "Yang Anda masukkan bukan angka, harap masukkan angka!\n",
      "5.0\n",
      "Menjalankan program selanjutnya ......\n"
     ]
    }
   ],
   "source": [
    "print('Program Pembagian V 2')\n",
    "while True:\n",
    "    try:\n",
    "        penyebut = int(input('Masukkan penyebut: '))\n",
    "        pembilang = int(input('Masukkan pembilang: '))\n",
    "        hasil = penyebut/pembilang\n",
    "        break\n",
    "    except ZeroDivisionError:\n",
    "        print('Jangan masukkan NOL, agar hasilnya tidak infinite')\n",
    "    except ValueError:\n",
    "        print('Yang Anda masukkan bukan angka, harap masukkan angka!')\n",
    "\n",
    "print(hasil)\n",
    "print('Menjalankan program selanjutnya ......')"
   ]
  },
  {
   "cell_type": "code",
   "execution_count": 69,
   "metadata": {},
   "outputs": [],
   "source": [
    "tulisan = 'Halo'\n",
    "angka = 3\n"
   ]
  },
  {
   "cell_type": "code",
   "execution_count": 73,
   "metadata": {},
   "outputs": [
    {
     "output_type": "stream",
     "name": "stdout",
     "text": [
      "Tolong ubah dulu tipe datanya ke tipe data yang sama\nMenjalankan program selanjutnya .......\n"
     ]
    }
   ],
   "source": [
    "try:\n",
    "    print(tulisan + angka)\n",
    "except TypeError:\n",
    "    print('Tolong ubah dulu tipe datanya ke tipe data yang sama')\n",
    "\n",
    "print('Menjalankan program selanjutnya .......')"
   ]
  },
  {
   "source": [
    "## Try Finnaly"
   ],
   "cell_type": "markdown",
   "metadata": {}
  },
  {
   "cell_type": "code",
   "execution_count": 76,
   "metadata": {},
   "outputs": [],
   "source": [
    "try:\n",
    "    files = open('newfile.txt', 'w')\n",
    "    files.write('Write Pertama')\n",
    "    files.write(' Write kedua')\n",
    "finally:\n",
    "    files.close()"
   ]
  },
  {
   "cell_type": "code",
   "execution_count": 77,
   "metadata": {},
   "outputs": [
    {
     "output_type": "execute_result",
     "data": {
      "text/plain": [
       "'/home/iqbaladudu/Documents/basic-python'"
      ]
     },
     "metadata": {},
     "execution_count": 77
    }
   ],
   "source": [
    "os.getcwd()"
   ]
  },
  {
   "cell_type": "code",
   "execution_count": 78,
   "metadata": {},
   "outputs": [
    {
     "output_type": "execute_result",
     "data": {
      "text/plain": [
       "32512"
      ]
     },
     "metadata": {},
     "execution_count": 78
    }
   ],
   "source": [
    "os.system('belajar.py')"
   ]
  }
 ]
}