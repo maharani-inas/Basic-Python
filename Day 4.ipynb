{
 "cells": [
  {
   "cell_type": "markdown",
   "metadata": {},
   "source": [
    "\n",
    "# Penggabungan Kondisi"
   ]
  },
  {
   "cell_type": "markdown",
   "metadata": {},
   "source": [
    "## And"
   ]
  },
  {
   "cell_type": "code",
   "execution_count": 2,
   "metadata": {},
   "outputs": [
    {
     "name": "stdout",
     "output_type": "stream",
     "text": [
      "Pukul berapa sekarang?11\n",
      "Selamat pagi\n"
     ]
    }
   ],
   "source": [
    "jam = int(input(\"Pukul berapa sekarang?\"))\n",
    "\n",
    "#pagi : 5-11\n",
    "#siang : 11-15\n",
    "#sore :15-18\n",
    "#malam : 18-4\n",
    "\n",
    "#kondisi\n",
    "if jam >=5 and jam<=11:\n",
    "    print(\"Selamat pagi\")\n",
    "elif jam >11 and jam<=15 :\n",
    "    print(\"Selamat Siang\")\n",
    "elif jam > 15 and jam<=18 :\n",
    "    print (\"Selamat Sore\")\n",
    "else:\n",
    "    print(\"Selamat Malam\")"
   ]
  },
  {
   "cell_type": "code",
   "execution_count": 4,
   "metadata": {},
   "outputs": [
    {
     "name": "stdout",
     "output_type": "stream",
     "text": [
      "Halo\n"
     ]
    }
   ],
   "source": [
    "#Shorthand And\n",
    "\n",
    "angka = 5\n",
    "if 4 < angka < 6:\n",
    "    print (\"Halo\")"
   ]
  },
  {
   "cell_type": "markdown",
   "metadata": {},
   "source": [
    "## Or"
   ]
  },
  {
   "cell_type": "code",
   "execution_count": 6,
   "metadata": {},
   "outputs": [
    {
     "name": "stdout",
     "output_type": "stream",
     "text": [
      "Betul\n"
     ]
    }
   ],
   "source": [
    "#true w/ true\n",
    "if 6<7 or 8<9:\n",
    "    print (\"Benar\")"
   ]
  },
  {
   "cell_type": "code",
   "execution_count": 7,
   "metadata": {},
   "outputs": [
    {
     "name": "stdout",
     "output_type": "stream",
     "text": [
      "Salah satunya betul\n"
     ]
    }
   ],
   "source": [
    "#true w/ false\n",
    "if 6<7 or 8>9:\n",
    "    print(\"Salah satunya betul\")"
   ]
  },
  {
   "cell_type": "code",
   "execution_count": 10,
   "metadata": {},
   "outputs": [
    {
     "name": "stdout",
     "output_type": "stream",
     "text": [
      "Hi\n"
     ]
    }
   ],
   "source": [
    "n= 6\n",
    "if n != 9: \n",
    "    print(\"Hi\")"
   ]
  },
  {
   "cell_type": "code",
   "execution_count": 16,
   "metadata": {
    "scrolled": true
   },
   "outputs": [
    {
     "name": "stdout",
     "output_type": "stream",
     "text": [
      "C is in the list\n"
     ]
    }
   ],
   "source": [
    "li=['A','B','C']\n",
    "if ('C' not in li):\n",
    "    print ('C is not in the list')\n",
    "else:\n",
    "    print('C is in the list')"
   ]
  },
  {
   "cell_type": "code",
   "execution_count": 12,
   "metadata": {},
   "outputs": [
    {
     "name": "stdout",
     "output_type": "stream",
     "text": [
      "True\n"
     ]
    }
   ],
   "source": [
    "x=False\n",
    "print(not x)"
   ]
  },
  {
   "cell_type": "code",
   "execution_count": 17,
   "metadata": {},
   "outputs": [
    {
     "name": "stdout",
     "output_type": "stream",
     "text": [
      "Masukkan angka : 8\n",
      "8 ada di dalam list\n"
     ]
    }
   ],
   "source": [
    "m=int(input(\"Masukkan angka : \"))\n",
    "li=[1,2,3,4,5,6,7,8,9,10]\n",
    "if(m not in li):\n",
    "    print(m, \"tidak ada di list\")\n",
    "else :\n",
    "    print (m, \"ada di dalam list\")"
   ]
  },
  {
   "cell_type": "code",
   "execution_count": 18,
   "metadata": {},
   "outputs": [
    {
     "name": "stdout",
     "output_type": "stream",
     "text": [
      "8 adalah int\n"
     ]
    }
   ],
   "source": [
    "#is \n",
    "a=8\n",
    "if (type(a) is int):\n",
    "    print(a, \"adalah int\")\n",
    "else:\n",
    "    print(a, \"bukan int\")"
   ]
  },
  {
   "cell_type": "markdown",
   "metadata": {},
   "source": [
    "## Random"
   ]
  },
  {
   "cell_type": "code",
   "execution_count": 19,
   "metadata": {},
   "outputs": [
    {
     "name": "stdout",
     "output_type": "stream",
     "text": [
      "46\n"
     ]
    }
   ],
   "source": [
    "from random import randint\n",
    "\n",
    "print(randint(1,100))"
   ]
  },
  {
   "cell_type": "code",
   "execution_count": 23,
   "metadata": {},
   "outputs": [
    {
     "name": "stdout",
     "output_type": "stream",
     "text": [
      "51\n"
     ]
    }
   ],
   "source": [
    "from random import randrange\n",
    "\n",
    "print(randrange(1,100,2))"
   ]
  },
  {
   "cell_type": "markdown",
   "metadata": {},
   "source": [
    "## List"
   ]
  },
  {
   "cell_type": "code",
   "execution_count": 28,
   "metadata": {},
   "outputs": [
    {
     "name": "stdout",
     "output_type": "stream",
     "text": [
      "Bakso\n",
      "Soto\n",
      "['Bakso', 'Pizza', 'Hotdog']\n",
      "['Bakso', 'Pizza']\n"
     ]
    }
   ],
   "source": [
    "list1 =['Bakso','Pizza', 'Hotdog','Bakmi','Soto']\n",
    "#urutan dari data ke 0\n",
    "\n",
    "#memanggil salah satu value\n",
    "print(list1[0])\n",
    "print(list1[-1])\n",
    "print(list1[0:3])\n",
    "print(list1[:2])"
   ]
  },
  {
   "cell_type": "code",
   "execution_count": 35,
   "metadata": {},
   "outputs": [
    {
     "name": "stdout",
     "output_type": "stream",
     "text": [
      "Rendang\n",
      " \n",
      "['Bakso', 'Pizza', 'Rendang', 'Bakmi', 'Soto', 'Burger', 'Burger', 'Ayam Geprek', 'Burger', 'Ayam Geprek', 'Burger', 'Ayam Geprek', 'Burger']\n",
      "['Bakso', 'Pizza', 'Rendang', 'Bakmi', 'Soto', 'Burger', 'Burger', 'Ayam Geprek', 'Burger', 'Ayam Geprek', 'Burger', 'Ayam Geprek', 'Burger', 'Ayam Geprek']\n"
     ]
    }
   ],
   "source": [
    "#Mengedit Value\n",
    "list1[2]='Rendang'\n",
    "print(list1[2])\n",
    "\n",
    "print(\" \")\n",
    "\n",
    "#Menambah Value\n",
    "list1.append('Burger')\n",
    "print(list1)\n",
    "\n",
    "list1.append('Ayam Geprek')\n",
    "print(list1)"
   ]
  },
  {
   "cell_type": "code",
   "execution_count": 37,
   "metadata": {},
   "outputs": [
    {
     "name": "stdout",
     "output_type": "stream",
     "text": [
      "['Bakso', 'Pizza', 'Rendang', 'Bakmi', 'Soto', 'Burger', 'Ayam Geprek']\n"
     ]
    }
   ],
   "source": [
    "#menghapus Value\n",
    "del list1[6:13]\n",
    "print (list1)"
   ]
  },
  {
   "cell_type": "code",
   "execution_count": 38,
   "metadata": {},
   "outputs": [
    {
     "name": "stdout",
     "output_type": "stream",
     "text": [
      "Saya suka:Bakso\n",
      "Saya suka:Pizza\n",
      "Saya suka:Rendang\n",
      "Saya suka:Bakmi\n",
      "Saya suka:Soto\n",
      "Saya suka:Burger\n",
      "Saya suka:Ayam Geprek\n"
     ]
    }
   ],
   "source": [
    "#looping lsit\n",
    "for makanan in list1:\n",
    "    print(\"Saya suka\", makanan, sep=':')\n"
   ]
  },
  {
   "cell_type": "markdown",
   "metadata": {},
   "source": [
    "# Dictionary"
   ]
  },
  {
   "cell_type": "code",
   "execution_count": 40,
   "metadata": {},
   "outputs": [],
   "source": [
    "dictionary ={'key':'Value'}"
   ]
  },
  {
   "cell_type": "code",
   "execution_count": 41,
   "metadata": {},
   "outputs": [
    {
     "name": "stdout",
     "output_type": "stream",
     "text": [
      "{'nama': 'Budiman', 'umur': '20', 'profesi': 'Mech Eng'}\n"
     ]
    }
   ],
   "source": [
    "bio = {'nama': 'Budiman','umur': '20','profesi':'Mech Eng'}\n",
    "print(bio)"
   ]
  },
  {
   "cell_type": "code",
   "execution_count": 43,
   "metadata": {},
   "outputs": [
    {
     "name": "stdout",
     "output_type": "stream",
     "text": [
      "Budiman\n",
      "20\n",
      "Mech Eng\n"
     ]
    }
   ],
   "source": [
    "print(bio['nama'])\n",
    "print(bio['umur'])\n",
    "print(bio['profesi'])"
   ]
  },
  {
   "cell_type": "code",
   "execution_count": 44,
   "metadata": {},
   "outputs": [
    {
     "name": "stdout",
     "output_type": "stream",
     "text": [
      "nama : Budiman\n",
      "umur : 20\n",
      "profesi : Mech Eng\n"
     ]
    }
   ],
   "source": [
    "for key,value in bio.items():\n",
    "    print(key, value, sep=' : ')"
   ]
  },
  {
   "cell_type": "code",
   "execution_count": 45,
   "metadata": {},
   "outputs": [
    {
     "name": "stdout",
     "output_type": "stream",
     "text": [
      "{'nama': 'Budiman', 'umur': '20', 'profesi': 'Mech Eng'}\n",
      "{'nama': 'Abraham', 'umur': '30', 'profesi': 'Ind Eng'}\n"
     ]
    }
   ],
   "source": [
    "pelanggan = {\n",
    "    1:{\n",
    "        'nama' : 'Budiman', 'umur' : '20', 'profesi':'Mech Eng'\n",
    "    },\n",
    "    2:{\n",
    "        'nama' : 'Abraham', 'umur' : '30', 'profesi':'Ind Eng'\n",
    "    },\n",
    "    3:{\n",
    "        'nama' : 'Isaac', 'umur' : '40', 'profesi':'WWTP Op'\n",
    "    }\n",
    "}\n",
    "print(pelanggan[1])\n",
    "print (pelanggan[2])"
   ]
  },
  {
   "cell_type": "code",
   "execution_count": 47,
   "metadata": {},
   "outputs": [
    {
     "name": "stdout",
     "output_type": "stream",
     "text": [
      "1 {'nama': 'Budiman', 'umur': '20', 'profesi': 'Mech Eng'}\n",
      "2 {'nama': 'Abraham', 'umur': '30', 'profesi': 'Ind Eng'}\n",
      "3 {'nama': 'Isaac', 'umur': '40', 'profesi': 'WWTP Op'}\n"
     ]
    }
   ],
   "source": [
    "for key,value in pelanggan.items():\n",
    "    print (key,value)"
   ]
  },
  {
   "cell_type": "code",
   "execution_count": 50,
   "metadata": {},
   "outputs": [
    {
     "name": "stdout",
     "output_type": "stream",
     "text": [
      "pelanggan ke- 1\n",
      "nama : Budiman\n",
      "umur : 20\n",
      "profesi : Mech Eng\n",
      " \n",
      "pelanggan ke- 2\n",
      "nama : Abraham\n",
      "umur : 30\n",
      "profesi : Ind Eng\n",
      " \n",
      "pelanggan ke- 3\n",
      "nama : Isaac\n",
      "umur : 40\n",
      "profesi : WWTP Op\n",
      " \n"
     ]
    }
   ],
   "source": [
    "for key,value in pelanggan.items():\n",
    "    print (\"pelanggan ke-\", key)\n",
    "    # looping\n",
    "    for key2 in value:\n",
    "        print(key2,value[key2], sep=' : ')\n",
    "    print (\" \")"
   ]
  },
  {
   "cell_type": "code",
   "execution_count": 51,
   "metadata": {},
   "outputs": [
    {
     "name": "stdout",
     "output_type": "stream",
     "text": [
      "('Ikan', 'Beruang', 'Badak')\n",
      "<class 'tuple'>\n"
     ]
    }
   ],
   "source": [
    "tup = ('Ikan', 'Beruang' , 'Badak')\n",
    "print (tup)\n",
    "print(type(tup))"
   ]
  },
  {
   "cell_type": "code",
   "execution_count": 52,
   "metadata": {},
   "outputs": [
    {
     "ename": "AttributeError",
     "evalue": "'tuple' object has no attribute 'append'",
     "output_type": "error",
     "traceback": [
      "\u001b[1;31m---------------------------------------------------------------------------\u001b[0m",
      "\u001b[1;31mAttributeError\u001b[0m                            Traceback (most recent call last)",
      "\u001b[1;32m<ipython-input-52-37c5617c1618>\u001b[0m in \u001b[0;36m<module>\u001b[1;34m\u001b[0m\n\u001b[1;32m----> 1\u001b[1;33m \u001b[0mtup\u001b[0m\u001b[1;33m.\u001b[0m\u001b[0mappend\u001b[0m \u001b[1;33m(\u001b[0m\u001b[1;34m'Kelinci'\u001b[0m\u001b[1;33m)\u001b[0m\u001b[1;33m\u001b[0m\u001b[1;33m\u001b[0m\u001b[0m\n\u001b[0m",
      "\u001b[1;31mAttributeError\u001b[0m: 'tuple' object has no attribute 'append'"
     ]
    }
   ],
   "source": [
    "tup.append ('Kelinci')"
   ]
  },
  {
   "cell_type": "code",
   "execution_count": 53,
   "metadata": {},
   "outputs": [
    {
     "ename": "TypeError",
     "evalue": "'tuple' object doesn't support item deletion",
     "output_type": "error",
     "traceback": [
      "\u001b[1;31m---------------------------------------------------------------------------\u001b[0m",
      "\u001b[1;31mTypeError\u001b[0m                                 Traceback (most recent call last)",
      "\u001b[1;32m<ipython-input-53-e5558afa55a9>\u001b[0m in \u001b[0;36m<module>\u001b[1;34m\u001b[0m\n\u001b[1;32m----> 1\u001b[1;33m \u001b[1;32mdel\u001b[0m \u001b[0mtup\u001b[0m\u001b[1;33m[\u001b[0m\u001b[1;36m1\u001b[0m\u001b[1;33m]\u001b[0m\u001b[1;33m\u001b[0m\u001b[1;33m\u001b[0m\u001b[0m\n\u001b[0m",
      "\u001b[1;31mTypeError\u001b[0m: 'tuple' object doesn't support item deletion"
     ]
    }
   ],
   "source": [
    "del tup[1]"
   ]
  },
  {
   "cell_type": "code",
   "execution_count": 54,
   "metadata": {},
   "outputs": [
    {
     "ename": "TypeError",
     "evalue": "'tuple' object does not support item assignment",
     "output_type": "error",
     "traceback": [
      "\u001b[1;31m---------------------------------------------------------------------------\u001b[0m",
      "\u001b[1;31mTypeError\u001b[0m                                 Traceback (most recent call last)",
      "\u001b[1;32m<ipython-input-54-d4d563331e11>\u001b[0m in \u001b[0;36m<module>\u001b[1;34m\u001b[0m\n\u001b[1;32m----> 1\u001b[1;33m \u001b[0mtup\u001b[0m\u001b[1;33m[\u001b[0m\u001b[1;36m0\u001b[0m\u001b[1;33m]\u001b[0m\u001b[1;33m=\u001b[0m\u001b[1;34m'Ayam'\u001b[0m\u001b[1;33m\u001b[0m\u001b[1;33m\u001b[0m\u001b[0m\n\u001b[0m",
      "\u001b[1;31mTypeError\u001b[0m: 'tuple' object does not support item assignment"
     ]
    }
   ],
   "source": [
    "tup[0]='Ayam'"
   ]
  },
  {
   "cell_type": "code",
   "execution_count": 55,
   "metadata": {},
   "outputs": [],
   "source": [
    "#kesimpulan : tuple immutable"
   ]
  },
  {
   "cell_type": "code",
   "execution_count": 56,
   "metadata": {},
   "outputs": [
    {
     "name": "stdout",
     "output_type": "stream",
     "text": [
      "3\n"
     ]
    }
   ],
   "source": [
    "print(len(tup))"
   ]
  },
  {
   "cell_type": "code",
   "execution_count": 57,
   "metadata": {},
   "outputs": [
    {
     "name": "stdout",
     "output_type": "stream",
     "text": [
      "Beruang\n"
     ]
    }
   ],
   "source": [
    "print(tup[1])"
   ]
  },
  {
   "cell_type": "code",
   "execution_count": 61,
   "metadata": {},
   "outputs": [
    {
     "name": "stdout",
     "output_type": "stream",
     "text": [
      "['Ikan', 'Beruang', 'Badak']\n",
      "['Ikan', 'Buaya', 'Badak']\n",
      "('Ikan', 'Buaya', 'Badak')\n"
     ]
    }
   ],
   "source": [
    "#convert\n",
    "tup2=list(tup)\n",
    "print(tup2)\n",
    "tup2[1]='Buaya'\n",
    "print(tup2)\n",
    "tup3=tuple(tup2)\n",
    "print (tup3)"
   ]
  },
  {
   "cell_type": "markdown",
   "metadata": {},
   "source": [
    "## Set"
   ]
  },
  {
   "cell_type": "code",
   "execution_count": 63,
   "metadata": {},
   "outputs": [
    {
     "name": "stdout",
     "output_type": "stream",
     "text": [
      "{'Berlin', 'Yereva', 'London', 'Tallin', 'Kairo'} <class 'set'>\n"
     ]
    }
   ],
   "source": [
    "set1={'Berlin','Kairo','Tallin','London','Yereva'}\n",
    "print(set1,type(set1))"
   ]
  },
  {
   "cell_type": "code",
   "execution_count": 64,
   "metadata": {},
   "outputs": [
    {
     "name": "stdout",
     "output_type": "stream",
     "text": [
      "{5, 6, 7, 8, 9, 10}\n",
      "{1, 2, 3, 4, 5, 6, 7, 8, 9, 10, 11, 12, 13, 17, 18, 19, 20}\n"
     ]
    }
   ],
   "source": [
    "set_angka1={1,2,3,4,5,6,7,8,9,10}\n",
    "set_angka2 = {5,6,7,8,9,10,11,12,13,17,18,19,20}\n",
    "print(set_angka1&set_angka2)\n",
    "print(set_angka1 | set_angka2)"
   ]
  },
  {
   "cell_type": "code",
   "execution_count": null,
   "metadata": {},
   "outputs": [],
   "source": []
  }
 ],
 "metadata": {
  "kernelspec": {
   "display_name": "Python 3",
   "language": "python",
   "name": "python3"
  },
  "language_info": {
   "codemirror_mode": {
    "name": "ipython",
    "version": 3
   },
   "file_extension": ".py",
   "mimetype": "text/x-python",
   "name": "python",
   "nbconvert_exporter": "python",
   "pygments_lexer": "ipython3",
   "version": "3.9.0"
  }
 },
 "nbformat": 4,
 "nbformat_minor": 4
}
