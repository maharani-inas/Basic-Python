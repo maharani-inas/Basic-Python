{
 "metadata": {
  "language_info": {
   "codemirror_mode": {
    "name": "ipython",
    "version": 3
   },
   "file_extension": ".py",
   "mimetype": "text/x-python",
   "name": "python",
   "nbconvert_exporter": "python",
   "pygments_lexer": "ipython3",
   "version": "3.9.0-final"
  },
  "orig_nbformat": 2,
  "kernelspec": {
   "name": "python3",
   "display_name": "Python 3"
  }
 },
 "nbformat": 4,
 "nbformat_minor": 2,
 "cells": [
  {
   "cell_type": "code",
   "execution_count": 23,
   "metadata": {},
   "outputs": [],
   "source": [
    "# Operasi File"
   ]
  },
  {
   "cell_type": "code",
   "execution_count": 24,
   "metadata": {},
   "outputs": [],
   "source": [
    "## Membuat File"
   ]
  },
  {
   "cell_type": "code",
   "execution_count": 25,
   "metadata": {},
   "outputs": [],
   "source": [
    "f=open('belajar.py','w')"
   ]
  },
  {
   "cell_type": "code",
   "execution_count": 26,
   "metadata": {},
   "outputs": [],
   "source": [
    "file=open('index.html','w')"
   ]
  },
  {
   "cell_type": "code",
   "execution_count": 27,
   "metadata": {},
   "outputs": [
    {
     "output_type": "execute_result",
     "data": {
      "text/plain": [
       "28"
      ]
     },
     "metadata": {},
     "execution_count": 27
    }
   ],
   "source": [
    "f.write(\"Hari ini saya belajar Python\")"
   ]
  },
  {
   "cell_type": "code",
   "execution_count": 28,
   "metadata": {},
   "outputs": [],
   "source": [
    "f.close()"
   ]
  },
  {
   "cell_type": "code",
   "execution_count": 29,
   "metadata": {},
   "outputs": [],
   "source": [
    "# Append"
   ]
  },
  {
   "cell_type": "code",
   "execution_count": 30,
   "metadata": {},
   "outputs": [],
   "source": [
    "txt = open ('halo.txt','w')"
   ]
  },
  {
   "cell_type": "code",
   "execution_count": 31,
   "metadata": {},
   "outputs": [
    {
     "output_type": "execute_result",
     "data": {
      "text/plain": [
       "4"
      ]
     },
     "metadata": {},
     "execution_count": 31
    }
   ],
   "source": [
    "txt.write(\"Halo\")"
   ]
  },
  {
   "cell_type": "code",
   "execution_count": 32,
   "metadata": {},
   "outputs": [],
   "source": [
    "txt.close()"
   ]
  },
  {
   "cell_type": "code",
   "execution_count": 33,
   "metadata": {},
   "outputs": [],
   "source": [
    "append=open('halo.txt','a')"
   ]
  },
  {
   "cell_type": "code",
   "execution_count": 34,
   "metadata": {},
   "outputs": [
    {
     "output_type": "execute_result",
     "data": {
      "text/plain": [
       "16"
      ]
     },
     "metadata": {},
     "execution_count": 34
    }
   ],
   "source": [
    "append.write('ini hasil append')"
   ]
  },
  {
   "cell_type": "code",
   "execution_count": 35,
   "metadata": {},
   "outputs": [],
   "source": [
    "new=open('new.txt','w')"
   ]
  },
  {
   "cell_type": "code",
   "execution_count": 36,
   "metadata": {},
   "outputs": [
    {
     "output_type": "execute_result",
     "data": {
      "text/plain": [
       "4"
      ]
     },
     "metadata": {},
     "execution_count": 36
    }
   ],
   "source": [
    "new.write('test')"
   ]
  },
  {
   "cell_type": "code",
   "execution_count": 37,
   "metadata": {},
   "outputs": [],
   "source": [
    "new.close()"
   ]
  },
  {
   "cell_type": "code",
   "execution_count": 38,
   "metadata": {},
   "outputs": [],
   "source": [
    "new2=open('new.txt','w')"
   ]
  },
  {
   "cell_type": "code",
   "execution_count": 39,
   "metadata": {},
   "outputs": [],
   "source": [
    "new2.write('Halo')\n",
    "new2.close()"
   ]
  },
  {
   "cell_type": "code",
   "execution_count": 40,
   "metadata": {},
   "outputs": [],
   "source": [
    "new3=open('new.txt','a')\n",
    "new3.write('Ini hasil append')\n",
    "new3.close()"
   ]
  },
  {
   "cell_type": "code",
   "execution_count": 41,
   "metadata": {},
   "outputs": [],
   "source": [
    "# Membaca File"
   ]
  },
  {
   "cell_type": "code",
   "execution_count": 42,
   "metadata": {},
   "outputs": [
    {
     "output_type": "stream",
     "name": "stdout",
     "text": [
      "Hari ini saya belajar Python\n"
     ]
    }
   ],
   "source": [
    "read=open('belajar.py','r').read()\n",
    "print(read)"
   ]
  },
  {
   "cell_type": "code",
   "execution_count": 43,
   "metadata": {},
   "outputs": [],
   "source": [
    "import os\n",
    "run = os.system('belajar.py')"
   ]
  },
  {
   "cell_type": "code",
   "execution_count": 45,
   "metadata": {},
   "outputs": [],
   "source": [
    "#Direktori"
   ]
  },
  {
   "cell_type": "code",
   "execution_count": 46,
   "metadata": {},
   "outputs": [],
   "source": [
    "import os"
   ]
  },
  {
   "cell_type": "code",
   "execution_count": 47,
   "metadata": {},
   "outputs": [
    {
     "output_type": "execute_result",
     "data": {
      "text/plain": [
       "'c:\\\\Users\\\\Maharani\\\\Documents\\\\Percobaan'"
      ]
     },
     "metadata": {},
     "execution_count": 47
    }
   ],
   "source": [
    "os.getcwd()"
   ]
  },
  {
   "cell_type": "code",
   "execution_count": 48,
   "metadata": {},
   "outputs": [],
   "source": [
    "## Membuat direktori baru"
   ]
  },
  {
   "cell_type": "code",
   "execution_count": 49,
   "metadata": {},
   "outputs": [],
   "source": [
    "os.mkdir('Day 5')"
   ]
  },
  {
   "cell_type": "code",
   "execution_count": 50,
   "metadata": {},
   "outputs": [],
   "source": [
    "# Mengubah direktori"
   ]
  },
  {
   "cell_type": "code",
   "execution_count": 59,
   "metadata": {},
   "outputs": [],
   "source": [
    "os.chdir('c:\\\\Users\\\\Maharani\\\\Documents\\\\Percobaan\\\\Day 5')"
   ]
  },
  {
   "cell_type": "code",
   "execution_count": 67,
   "metadata": {},
   "outputs": [
    {
     "output_type": "execute_result",
     "data": {
      "text/plain": [
       "'c:\\\\Users\\\\Maharani\\\\Documents\\\\Percobaan\\\\Day 5'"
      ]
     },
     "metadata": {},
     "execution_count": 67
    }
   ],
   "source": [
    "os.getcwd()"
   ]
  },
  {
   "cell_type": "code",
   "execution_count": 69,
   "metadata": {},
   "outputs": [],
   "source": [
    "os.chdir('c:\\\\Users\\\\Maharani\\\\Documents\\\\Percobaan')"
   ]
  },
  {
   "cell_type": "code",
   "execution_count": 70,
   "metadata": {},
   "outputs": [
    {
     "output_type": "stream",
     "name": "stdout",
     "text": [
      "['.git', '.ipynb_checkpoints', '.vscode', 'Assignment #2.pdf', 'Basic Python #1 (1).pdf', 'Basic Python #2 (1).pdf', 'Basic Python #3.pptx', 'Basic Python #4.pptx', 'belajar.py', 'Day 1.ipynb', 'Day 2.ipynb', 'Day 3.ipynb', 'Day 4.ipynb', 'Day 5', 'Day 5.ipynb', 'halo.txt', 'index.html', 'index.py', 'new.txt', 'pertemuan_kedua.ipynb', 'Pertemuan_keempat.ipynb', 'pertemuan_pertama.ipynb', 'Pertemuan_tiga.ipynb', 'suhu.py', 'tugas 2 - A.py', 'tugas 2 -1.py', 'tugas 2 H-pahami.py', 'tugas 2.py']\n"
     ]
    }
   ],
   "source": [
    "ls=os.listdir()\n",
    "print(ls)"
   ]
  },
  {
   "cell_type": "code",
   "execution_count": 58,
   "metadata": {},
   "outputs": [],
   "source": [
    "## Rename Folder"
   ]
  },
  {
   "cell_type": "code",
   "execution_count": 71,
   "metadata": {},
   "outputs": [],
   "source": [
    "os.rename('Day 5','D 5')"
   ]
  },
  {
   "cell_type": "code",
   "execution_count": 72,
   "metadata": {},
   "outputs": [
    {
     "output_type": "stream",
     "name": "stdout",
     "text": [
      ".git\n.ipynb_checkpoints\n.vscode\nAssignment #2.pdf\nBasic Python #1 (1).pdf\nBasic Python #2 (1).pdf\nBasic Python #3.pptx\nBasic Python #4.pptx\nbelajar.py\nD 5\nDay 1.ipynb\nDay 2.ipynb\nDay 3.ipynb\nDay 4.ipynb\nDay 5.ipynb\nhalo.txt\nindex.html\nindex.py\nnew.txt\npertemuan_kedua.ipynb\nPertemuan_keempat.ipynb\npertemuan_pertama.ipynb\nPertemuan_tiga.ipynb\nsuhu.py\ntugas 2 - A.py\ntugas 2 -1.py\ntugas 2 H-pahami.py\ntugas 2.py\n"
     ]
    }
   ],
   "source": [
    "li=os.listdir()\n",
    "for i in li:\n",
    "    print (i)"
   ]
  },
  {
   "cell_type": "code",
   "execution_count": 73,
   "metadata": {},
   "outputs": [
    {
     "output_type": "stream",
     "name": "stdout",
     "text": [
      "['.git', '.ipynb_checkpoints', '.vscode', 'Assignment #2.pdf', 'Basic Python #1 (1).pdf', 'Basic Python #2 (1).pdf', 'Basic Python #3.pptx', 'Basic Python #4.pptx', 'belajar.py', 'D 5', 'Day 1.ipynb', 'Day 2.ipynb', 'Day 3.ipynb', 'Day 4.ipynb', 'Day 5.ipynb', 'halo.txt', 'index.html', 'index.py', 'new.txt', 'pertemuan_kedua.ipynb', 'Pertemuan_keempat.ipynb', 'pertemuan_pertama.ipynb', 'Pertemuan_tiga.ipynb', 'suhu.py', 'tugas 2 - A.py', 'tugas 2 -1.py', 'tugas 2 H-pahami.py', 'tugas 2.py']\n"
     ]
    }
   ],
   "source": [
    "list_dir=os.listdir()\n",
    "print(list_dir)"
   ]
  },
  {
   "cell_type": "code",
   "execution_count": 75,
   "metadata": {},
   "outputs": [
    {
     "output_type": "stream",
     "name": "stdout",
     "text": [
      "new.txt tidak ada\nnew.txt tidak ada\nnew.txt tidak ada\nnew.txt tidak ada\nnew.txt tidak ada\nnew.txt tidak ada\nnew.txt tidak ada\nnew.txt tidak ada\nnew.txt tidak ada\nnew.txt tidak ada\nnew.txt tidak ada\nnew.txt tidak ada\nnew.txt tidak ada\nnew.txt tidak ada\nnew.txt tidak ada\nnew.txt tidak ada\nnew.txt tidak ada\nnew.txt tidak ada\nnew.txt ada!\nnew.txt tidak ada\nnew.txt tidak ada\nnew.txt tidak ada\nnew.txt tidak ada\nnew.txt tidak ada\nnew.txt tidak ada\nnew.txt tidak ada\nnew.txt tidak ada\nnew.txt tidak ada\n"
     ]
    }
   ],
   "source": [
    "for e in list_dir:\n",
    "    if e == 'new.txt':\n",
    "        print('new.txt ada!')\n",
    "    else:\n",
    "        print('new.txt tidak ada')"
   ]
  },
  {
   "cell_type": "code",
   "execution_count": null,
   "metadata": {},
   "outputs": [],
   "source": []
  }
 ]
}