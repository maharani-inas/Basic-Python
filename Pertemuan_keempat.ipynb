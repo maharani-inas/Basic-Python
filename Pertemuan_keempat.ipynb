{
 "cells": [
  {
   "cell_type": "markdown",
   "metadata": {},
   "source": [
    "# Penggabungan Kondisi"
   ]
  },
  {
   "cell_type": "markdown",
   "metadata": {},
   "source": [
    "## And"
   ]
  },
  {
   "cell_type": "code",
   "execution_count": 5,
   "metadata": {},
   "outputs": [
    {
     "name": "stdout",
     "output_type": "stream",
     "text": [
      "Pukul berapa sekarang?20\n",
      "Selamat Malam\n"
     ]
    }
   ],
   "source": [
    "# Input Jam\n",
    "jam = int(input(\"Pukul berapa sekarang?\"))\n",
    "\n",
    "#pagi : 5 - 11\n",
    "#siang: 11-15\n",
    "#sore: 15-18\n",
    "#Malam: 18 - 4\n",
    "\n",
    "# Kondisi\n",
    "\n",
    "if jam >= 5 & jam <= 11:\n",
    "    print(\"Selamat Pagi!\")\n",
    "elif jam > 11 and jam <= 15:\n",
    "    print(\"Selamat Siang\")\n",
    "elif jam > 15 and jam <= 18:\n",
    "    print(\"Selamat Sore\")\n",
    "else:\n",
    "    print(\"Selamat Malam\")"
   ]
  },
  {
   "cell_type": "code",
   "execution_count": 15,
   "metadata": {},
   "outputs": [
    {
     "name": "stdout",
     "output_type": "stream",
     "text": [
      "Halo\n"
     ]
    }
   ],
   "source": [
    "# Shorthand AND\n",
    "\n",
    "angka = 5\n",
    "if 4 < angka < 6:\n",
    "    print(\"Halo\")\n",
    "else:\n",
    "    print(\"Else\")"
   ]
  },
  {
   "cell_type": "markdown",
   "metadata": {},
   "source": [
    "## Or"
   ]
  },
  {
   "cell_type": "code",
   "execution_count": 21,
   "metadata": {},
   "outputs": [],
   "source": [
    "# true w/ true\n",
    "if 6 < 7 or 8 < 9:\n",
    "    print(\"Betul\")"
   ]
  },
  {
   "cell_type": "code",
   "execution_count": 17,
   "metadata": {},
   "outputs": [
    {
     "name": "stdout",
     "output_type": "stream",
     "text": [
      "Salah satunya betul\n"
     ]
    }
   ],
   "source": [
    "# true w/ false\n",
    "if 6 < 7 or 8 > 9:\n",
    "    print(\"Salah satunya betul\")"
   ]
  },
  {
   "cell_type": "code",
   "execution_count": 23,
   "metadata": {},
   "outputs": [
    {
     "name": "stdout",
     "output_type": "stream",
     "text": [
      "True\n"
     ]
    }
   ],
   "source": [
    "angka = 3\n",
    "if angka != 4:\n",
    "    print(\"True\")"
   ]
  },
  {
   "cell_type": "code",
   "execution_count": 25,
   "metadata": {},
   "outputs": [
    {
     "name": "stdout",
     "output_type": "stream",
     "text": [
      "False\n"
     ]
    }
   ],
   "source": [
    "x = True\n",
    "print(not x)"
   ]
  },
  {
   "cell_type": "code",
   "execution_count": 31,
   "metadata": {},
   "outputs": [
    {
     "name": "stdout",
     "output_type": "stream",
     "text": [
      "C di dalam list\n"
     ]
    }
   ],
   "source": [
    "li = ['A', 'B', 'C']\n",
    "if ('C' not in li):\n",
    "    print('C not in list')\n",
    "else:\n",
    "    print('C di dalam list')"
   ]
  },
  {
   "cell_type": "code",
   "execution_count": 34,
   "metadata": {},
   "outputs": [
    {
     "name": "stdout",
     "output_type": "stream",
     "text": [
      "Masukkan angka: 8\n",
      "8 ada di dalam list\n"
     ]
    }
   ],
   "source": [
    "masukkan = int(input(\"Masukkan angka: \"))\n",
    "li = [1,2,3,4,5,6,7,8, 10]\n",
    "if (masukkan not in li):\n",
    "    print(masukkan, \"tidak ada di list\")\n",
    "else:\n",
    "    print(masukkan, \"ada di dalam list\")\n"
   ]
  },
  {
   "cell_type": "code",
   "execution_count": 35,
   "metadata": {},
   "outputs": [
    {
     "name": "stdout",
     "output_type": "stream",
     "text": [
      "8 adalah int\n"
     ]
    }
   ],
   "source": [
    "# is\n",
    "ank = 8\n",
    "if (type(ank) is int):\n",
    "    print(ank, \"adalah int\")\n",
    "else:\n",
    "    print(ank, \"bukan int\")"
   ]
  },
  {
   "cell_type": "markdown",
   "metadata": {},
   "source": [
    "# Random"
   ]
  },
  {
   "cell_type": "code",
   "execution_count": 39,
   "metadata": {},
   "outputs": [
    {
     "name": "stdout",
     "output_type": "stream",
     "text": [
      "39\n"
     ]
    }
   ],
   "source": [
    "from random import randint\n",
    "\n",
    "print(randint(1,100))"
   ]
  },
  {
   "cell_type": "code",
   "execution_count": 64,
   "metadata": {},
   "outputs": [
    {
     "name": "stdout",
     "output_type": "stream",
     "text": [
      "75\n"
     ]
    }
   ],
   "source": [
    "from random import randrange\n",
    "\n",
    "print(randrange(1, 100, 2))"
   ]
  },
  {
   "cell_type": "markdown",
   "metadata": {},
   "source": [
    "# List"
   ]
  },
  {
   "cell_type": "code",
   "execution_count": 92,
   "metadata": {},
   "outputs": [
    {
     "name": "stdout",
     "output_type": "stream",
     "text": [
      "Bakso\n",
      "Bakmi\n",
      "['Bakso', 'Pizza', 'Hotdog']\n",
      "['Bakso', 'Pizza']\n"
     ]
    }
   ],
   "source": [
    "list_satu = ['Bakso', 'Pizza', 'Hotdog', 'Bakmi', 'Soto']\n",
    "# Memanggil salah satu valuenya\n",
    "print(list_satu[0])\n",
    "print(list_satu[-2])\n",
    "print(list_satu[0:3])\n",
    "print(list_satu[:2])"
   ]
  },
  {
   "cell_type": "code",
   "execution_count": 93,
   "metadata": {},
   "outputs": [
    {
     "name": "stdout",
     "output_type": "stream",
     "text": [
      "Rendang\n",
      "Bika Ambon\n"
     ]
    }
   ],
   "source": [
    "# Mengedit Value\n",
    "list_satu[2] = 'Rendang'\n",
    "print(list_satu[2])\n",
    "list_satu[1] = 'Bika Ambon'\n",
    "print(list_satu[1])"
   ]
  },
  {
   "cell_type": "code",
   "execution_count": 94,
   "metadata": {},
   "outputs": [
    {
     "name": "stdout",
     "output_type": "stream",
     "text": [
      "['Bakso', 'Bika Ambon', 'Rendang', 'Bakmi', 'Soto', 'Sanjai']\n",
      "['Bakso', 'Bika Ambon', 'Rendang', 'Bakmi', 'Soto', 'Sanjai', 'Geprek']\n"
     ]
    }
   ],
   "source": [
    "# Tambah nilai\n",
    "list_satu.append(\"Sanjai\")\n",
    "print(list_satu)\n",
    "list_satu.append(\"Geprek\")\n",
    "print(list_satu)"
   ]
  },
  {
   "cell_type": "code",
   "execution_count": 97,
   "metadata": {},
   "outputs": [
    {
     "name": "stdout",
     "output_type": "stream",
     "text": [
      "['Bakso', 'Bika Ambon', 'Rendang', 'Bakmi', 'Soto', 'Geprek']\n"
     ]
    }
   ],
   "source": [
    "# Menghapus nilai\n",
    "del list_satu[5]\n",
    "print(list_satu)"
   ]
  },
  {
   "cell_type": "code",
   "execution_count": 99,
   "metadata": {},
   "outputs": [
    {
     "name": "stdout",
     "output_type": "stream",
     "text": [
      "Saya suka: Bakso\n",
      "Saya suka: Bika Ambon\n",
      "Saya suka: Rendang\n",
      "Saya suka: Bakmi\n",
      "Saya suka: Soto\n",
      "Saya suka: Geprek\n"
     ]
    }
   ],
   "source": [
    "# looping list\n",
    "for makanan in list_satu:\n",
    "    print(\"Saya suka\", makanan, sep=': ')"
   ]
  },
  {
   "cell_type": "markdown",
   "metadata": {},
   "source": [
    "# Dictionary"
   ]
  },
  {
   "cell_type": "code",
   "execution_count": 101,
   "metadata": {},
   "outputs": [
    {
     "name": "stdout",
     "output_type": "stream",
     "text": [
      "{'nama': 'Budiman', 'umur': '20', 'profesi': 'DevOps'}\n"
     ]
    }
   ],
   "source": [
    "bio = {'nama':'Budiman', 'umur':'20', 'profesi':'DevOps'}\n",
    "print(bio)"
   ]
  },
  {
   "cell_type": "code",
   "execution_count": 107,
   "metadata": {},
   "outputs": [
    {
     "name": "stdout",
     "output_type": "stream",
     "text": [
      "Budiman\n",
      "20\n",
      "DevOps\n"
     ]
    }
   ],
   "source": [
    "print(bio['nama'])\n",
    "print(bio['umur'])\n",
    "print(bio['profesi'])"
   ]
  },
  {
   "cell_type": "code",
   "execution_count": 110,
   "metadata": {},
   "outputs": [
    {
     "name": "stdout",
     "output_type": "stream",
     "text": [
      "nama: Budiman\n",
      "umur: 20\n",
      "profesi: DevOps\n"
     ]
    }
   ],
   "source": [
    "# Looping dictionary\n",
    "for k, v in bio.items():\n",
    "    print(k, v, sep=': ')"
   ]
  },
  {
   "cell_type": "code",
   "execution_count": 117,
   "metadata": {},
   "outputs": [
    {
     "name": "stdout",
     "output_type": "stream",
     "text": [
      "{'nama': 'Budiman', 'umur': '20', 'profesi': 'DevOps'}\n",
      "{'nama': 'Abraham', 'umur': '30', 'profesi': 'UI/UX Designer'}\n",
      "{'nama': 'Abraham', 'umur': '30', 'profesi': 'UI/UX Designer'}\n"
     ]
    }
   ],
   "source": [
    "# dictionary bercabang\n",
    "pelanggan = {\n",
    "    1:{\n",
    "      'nama': 'Budiman', 'umur': '20', 'profesi':'DevOps'\n",
    "    },\n",
    "    2:{\n",
    "      'nama': 'Abraham', 'umur': '30', 'profesi':'UI/UX Designer'\n",
    "    },\n",
    "    3:{\n",
    "      'nama': 'Isaac', 'umur': '40', 'profesi':'Front-End Dev'\n",
    "    }\n",
    "}\n",
    "print(pelanggan[1])\n",
    "print(pelanggan[2])\n",
    "print(pelanggan[2])"
   ]
  },
  {
   "cell_type": "code",
   "execution_count": 129,
   "metadata": {},
   "outputs": [
    {
     "name": "stdout",
     "output_type": "stream",
     "text": [
      "Pelanggan ke- 1\n",
      "nama: Budiman\n",
      "umur: 20\n",
      "profesi: DevOps\n",
      "\n",
      "Pelanggan ke- 2\n",
      "nama: Abraham\n",
      "umur: 30\n",
      "profesi: UI/UX Designer\n",
      "\n",
      "Pelanggan ke- 3\n",
      "nama: Isaac\n",
      "umur: 40\n",
      "profesi: Front-End Dev\n",
      "\n"
     ]
    }
   ],
   "source": [
    "# Looping\n",
    "for key, value in pelanggan.items():\n",
    "    print(\"Pelanggan ke-\", key)\n",
    "    # looping\n",
    "    for key2 in value:\n",
    "        print(key2, value[key2], sep=': ')\n",
    "    print()"
   ]
  },
  {
   "cell_type": "markdown",
   "metadata": {},
   "source": [
    "# Tuple"
   ]
  },
  {
   "cell_type": "code",
   "execution_count": 132,
   "metadata": {},
   "outputs": [
    {
     "name": "stdout",
     "output_type": "stream",
     "text": [
      "('Ikan', 'Beruang', 'Badak')\n",
      "<class 'tuple'>\n"
     ]
    }
   ],
   "source": [
    "tup = ('Ikan', 'Beruang', 'Badak')\n",
    "print(tup)\n",
    "print(type(tup))"
   ]
  },
  {
   "cell_type": "code",
   "execution_count": 134,
   "metadata": {},
   "outputs": [
    {
     "ename": "AttributeError",
     "evalue": "'tuple' object has no attribute 'append'",
     "output_type": "error",
     "traceback": [
      "\u001b[0;31m---------------------------------------------------------------------------\u001b[0m",
      "\u001b[0;31mAttributeError\u001b[0m                            Traceback (most recent call last)",
      "\u001b[0;32m<ipython-input-134-922624bf5526>\u001b[0m in \u001b[0;36m<module>\u001b[0;34m\u001b[0m\n\u001b[0;32m----> 1\u001b[0;31m \u001b[0mtup\u001b[0m\u001b[0;34m.\u001b[0m\u001b[0mappend\u001b[0m\u001b[0;34m(\u001b[0m\u001b[0;34m'Kelinci'\u001b[0m\u001b[0;34m)\u001b[0m\u001b[0;34m\u001b[0m\u001b[0;34m\u001b[0m\u001b[0m\n\u001b[0m",
      "\u001b[0;31mAttributeError\u001b[0m: 'tuple' object has no attribute 'append'"
     ]
    }
   ],
   "source": [
    "tup.append('Kelinci')"
   ]
  },
  {
   "cell_type": "code",
   "execution_count": 136,
   "metadata": {},
   "outputs": [
    {
     "ename": "TypeError",
     "evalue": "'tuple' object doesn't support item deletion",
     "output_type": "error",
     "traceback": [
      "\u001b[0;31m---------------------------------------------------------------------------\u001b[0m",
      "\u001b[0;31mTypeError\u001b[0m                                 Traceback (most recent call last)",
      "\u001b[0;32m<ipython-input-136-e5558afa55a9>\u001b[0m in \u001b[0;36m<module>\u001b[0;34m\u001b[0m\n\u001b[0;32m----> 1\u001b[0;31m \u001b[0;32mdel\u001b[0m \u001b[0mtup\u001b[0m\u001b[0;34m[\u001b[0m\u001b[0;36m1\u001b[0m\u001b[0;34m]\u001b[0m\u001b[0;34m\u001b[0m\u001b[0;34m\u001b[0m\u001b[0m\n\u001b[0m",
      "\u001b[0;31mTypeError\u001b[0m: 'tuple' object doesn't support item deletion"
     ]
    }
   ],
   "source": [
    "del tup[1]"
   ]
  },
  {
   "cell_type": "code",
   "execution_count": 138,
   "metadata": {},
   "outputs": [
    {
     "ename": "TypeError",
     "evalue": "'tuple' object does not support item assignment",
     "output_type": "error",
     "traceback": [
      "\u001b[0;31m---------------------------------------------------------------------------\u001b[0m",
      "\u001b[0;31mTypeError\u001b[0m                                 Traceback (most recent call last)",
      "\u001b[0;32m<ipython-input-138-c8b2a2813dc4>\u001b[0m in \u001b[0;36m<module>\u001b[0;34m\u001b[0m\n\u001b[0;32m----> 1\u001b[0;31m \u001b[0mtup\u001b[0m\u001b[0;34m[\u001b[0m\u001b[0;36m0\u001b[0m\u001b[0;34m]\u001b[0m \u001b[0;34m=\u001b[0m \u001b[0;34m'Ayam'\u001b[0m\u001b[0;34m\u001b[0m\u001b[0;34m\u001b[0m\u001b[0m\n\u001b[0m",
      "\u001b[0;31mTypeError\u001b[0m: 'tuple' object does not support item assignment"
     ]
    }
   ],
   "source": [
    "tup[0] = 'Ayam'"
   ]
  },
  {
   "cell_type": "code",
   "execution_count": 140,
   "metadata": {},
   "outputs": [
    {
     "name": "stdout",
     "output_type": "stream",
     "text": [
      "3\n"
     ]
    }
   ],
   "source": [
    "print(len(tup))"
   ]
  },
  {
   "cell_type": "code",
   "execution_count": 142,
   "metadata": {},
   "outputs": [
    {
     "name": "stdout",
     "output_type": "stream",
     "text": [
      "Beruang\n"
     ]
    }
   ],
   "source": [
    "print(tup[1])"
   ]
  },
  {
   "cell_type": "code",
   "execution_count": 154,
   "metadata": {},
   "outputs": [
    {
     "name": "stdout",
     "output_type": "stream",
     "text": [
      "['Ikan', 'Beruang', 'Badak']\n",
      "['Ikan', 'Buaya', 'Badak']\n",
      "('Ikan', 'Buaya', 'Badak')\n"
     ]
    }
   ],
   "source": [
    "# covert\n",
    "tup_2 = list(tup)\n",
    "print(tup_2)\n",
    "tup_2[1] = 'Buaya'\n",
    "print(tup_2)\n",
    "tup_3 = tuple(tup_2)\n",
    "print(tup_3)"
   ]
  },
  {
   "cell_type": "markdown",
   "metadata": {},
   "source": [
    "# Set"
   ]
  },
  {
   "cell_type": "code",
   "execution_count": 156,
   "metadata": {},
   "outputs": [
    {
     "name": "stdout",
     "output_type": "stream",
     "text": [
      "{'London', 'Tallin', 'Berlin', 'Yereva', 'Kairo'} <class 'set'>\n"
     ]
    }
   ],
   "source": [
    "set_satu = {'Berlin', 'Kairo', 'Tallin', 'London', 'Yereva'}\n",
    "print(set_satu, type(set_satu))"
   ]
  },
  {
   "cell_type": "code",
   "execution_count": 159,
   "metadata": {},
   "outputs": [
    {
     "ename": "TypeError",
     "evalue": "'set' object is not subscriptable",
     "output_type": "error",
     "traceback": [
      "\u001b[0;31m---------------------------------------------------------------------------\u001b[0m",
      "\u001b[0;31mTypeError\u001b[0m                                 Traceback (most recent call last)",
      "\u001b[0;32m<ipython-input-159-76e26ec1c376>\u001b[0m in \u001b[0;36m<module>\u001b[0;34m\u001b[0m\n\u001b[0;32m----> 1\u001b[0;31m \u001b[0mprint\u001b[0m\u001b[0;34m(\u001b[0m\u001b[0mset_satu\u001b[0m\u001b[0;34m[\u001b[0m\u001b[0;36m1\u001b[0m\u001b[0;34m]\u001b[0m\u001b[0;34m)\u001b[0m\u001b[0;34m\u001b[0m\u001b[0;34m\u001b[0m\u001b[0m\n\u001b[0m",
      "\u001b[0;31mTypeError\u001b[0m: 'set' object is not subscriptable"
     ]
    }
   ],
   "source": [
    "print(set_satu[1])"
   ]
  },
  {
   "cell_type": "code",
   "execution_count": 161,
   "metadata": {},
   "outputs": [
    {
     "name": "stdout",
     "output_type": "stream",
     "text": [
      "{1, 2, 3, 4, 5, 6}\n"
     ]
    }
   ],
   "source": [
    "set_angka = {1, 2, 2, 3, 3, 4, 5, 6, 5}\n",
    "print(set_angka)"
   ]
  },
  {
   "cell_type": "code",
   "execution_count": 163,
   "metadata": {},
   "outputs": [
    {
     "name": "stdout",
     "output_type": "stream",
     "text": [
      "{'Yerevan', 'London', 'Tallin', 'Berlin', 'Kairo'}\n"
     ]
    }
   ],
   "source": [
    "set_kota = {'Berlin', 'Kairo', 'Tallin', 'London', 'Yerevan', 'Berlin', 'Tallin'}\n",
    "print(set_kota)"
   ]
  },
  {
   "cell_type": "code",
   "execution_count": 167,
   "metadata": {},
   "outputs": [
    {
     "name": "stdout",
     "output_type": "stream",
     "text": [
      "{5, 6, 7, 8, 9, 10}\n",
      "{1, 2, 3, 4, 5, 6, 7, 8, 9, 10, 11, 13, 14, 15, 16, 17, 18, 19, 20}\n"
     ]
    }
   ],
   "source": [
    "set_angka1 = {1,2,3,4,5,6,7,8,9,10}\n",
    "set_angka2 = {5,6,7,8,9,10,11,13,14,15,16,17,18,19,20}\n",
    "print(set_angka1 & set_angka2)\n",
    "print(set_angka1 | set_angka2)"
   ]
  },
  {
   "cell_type": "code",
   "execution_count": null,
   "metadata": {},
   "outputs": [],
   "source": []
  }
 ],
 "metadata": {
  "kernelspec": {
   "display_name": "Python 3",
   "language": "python",
   "name": "python3"
  },
  "language_info": {
   "codemirror_mode": {
    "name": "ipython",
    "version": 3
   },
   "file_extension": ".py",
   "mimetype": "text/x-python",
   "name": "python",
   "nbconvert_exporter": "python",
   "pygments_lexer": "ipython3",
   "version": "3.8.5"
  }
 },
 "nbformat": 4,
 "nbformat_minor": 4
}
