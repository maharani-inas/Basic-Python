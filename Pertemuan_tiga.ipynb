{
 "cells": [
  {
   "cell_type": "code",
   "execution_count": 4,
   "metadata": {},
   "outputs": [
    {
     "name": "stdout",
     "output_type": "stream",
     "text": [
      "1\n",
      "2\n",
      "3\n",
      "4\n",
      "5\n",
      "6\n",
      "Angka 6 ditemukan\n"
     ]
    }
   ],
   "source": [
    "# Break\n",
    "number = [1, 2, 3, 4, 5, 6, 7, 8, 9, 10]\n",
    "for num in number:\n",
    "    print(num)\n",
    "    if num == 6:\n",
    "        print(\"Angka 6 ditemukan\")\n",
    "        break"
   ]
  },
  {
   "cell_type": "code",
   "execution_count": 13,
   "metadata": {},
   "outputs": [
    {
     "name": "stdout",
     "output_type": "stream",
     "text": [
      "11\n",
      "13\n",
      "15\n",
      "17\n",
      "19\n"
     ]
    }
   ],
   "source": [
    "# Continue\n",
    "numbers = [10, 11, 12, 13, 14, 15, 16, 17, 18, 19, 20]\n",
    "for n in numbers:\n",
    "    if n % 2 == 0:\n",
    "        continue\n",
    "    print(n)\n",
    "        "
   ]
  },
  {
   "cell_type": "code",
   "execution_count": null,
   "metadata": {},
   "outputs": [],
   "source": [
    "# Pass\n",
    "for x in range(1, 10):\n",
    "    pass\n",
    "if 9 < 10:\n",
    "    pass\n"
   ]
  },
  {
   "cell_type": "markdown",
   "metadata": {},
   "source": [
    "# Function"
   ]
  },
  {
   "cell_type": "code",
   "execution_count": 21,
   "metadata": {},
   "outputs": [
    {
     "name": "stdout",
     "output_type": "stream",
     "text": [
      "Halo, selamat siang!\n",
      "Halo, selamat siang!\n"
     ]
    }
   ],
   "source": [
    "# mendefenisikan function\n",
    "def sapa():\n",
    "    print(\"Halo, selamat siang!\")\n",
    "sapa()\n",
    "sapa()"
   ]
  },
  {
   "cell_type": "code",
   "execution_count": 26,
   "metadata": {},
   "outputs": [
    {
     "name": "stdout",
     "output_type": "stream",
     "text": [
      "Hai, Rima Selamat Pagi !\n",
      "Hai, Budi Selamat Siang !\n"
     ]
    }
   ],
   "source": [
    "# Argumen dan Parameter\n",
    "def greet(nama, waktu):\n",
    "    print(\"Hai,\", nama, \"Selamat\", waktu, \"!\")\n",
    "greet(\"Rima\", \"Pagi\")\n",
    "greet(\"Budi\", \"Siang\")"
   ]
  },
  {
   "cell_type": "code",
   "execution_count": 30,
   "metadata": {},
   "outputs": [
    {
     "name": "stdout",
     "output_type": "stream",
     "text": [
      "42\n",
      "100\n",
      "72000\n"
     ]
    }
   ],
   "source": [
    "def sums(x, y):\n",
    "    x = x * y\n",
    "    print(x)\n",
    "sums(8, 7)\n",
    "sums(10, 10)\n",
    "sums(90, 800)"
   ]
  },
  {
   "cell_type": "code",
   "execution_count": 37,
   "metadata": {},
   "outputs": [
    {
     "name": "stdout",
     "output_type": "stream",
     "text": [
      "Halo\n"
     ]
    },
    {
     "data": {
      "text/plain": [
       "10"
      ]
     },
     "execution_count": 37,
     "metadata": {},
     "output_type": "execute_result"
    }
   ],
   "source": [
    "# return\n",
    "def func():\n",
    "    print(\"Halo\")\n",
    "    return 7 + 3\n",
    "func()"
   ]
  },
  {
   "cell_type": "code",
   "execution_count": 43,
   "metadata": {},
   "outputs": [
    {
     "name": "stdout",
     "output_type": "stream",
     "text": [
      "Masukkan Angka: 8\n"
     ]
    },
    {
     "data": {
      "text/plain": [
       "800"
      ]
     },
     "execution_count": 43,
     "metadata": {},
     "output_type": "execute_result"
    }
   ],
   "source": [
    "number = int(input(\"Masukkan Angka: \"))\n",
    "\n",
    "def angka(x):\n",
    "    if x <= 5:\n",
    "        return x * 10\n",
    "    else:\n",
    "        return  x * 100\n",
    "angka(number)"
   ]
  },
  {
   "cell_type": "code",
   "execution_count": 46,
   "metadata": {},
   "outputs": [
    {
     "name": "stdout",
     "output_type": "stream",
     "text": [
      "Nama:  Rima \n",
      "Umur:  17\n"
     ]
    }
   ],
   "source": [
    "# Default Parameter\n",
    "\n",
    "# fungsi umur anak SMA\n",
    "def umur(nama, umur = '17'):\n",
    "    print(\"Nama: \", nama, \"\\nUmur: \", umur)\n",
    "umur(\"Rima\")"
   ]
  },
  {
   "cell_type": "code",
   "execution_count": 48,
   "metadata": {},
   "outputs": [
    {
     "name": "stdout",
     "output_type": "stream",
     "text": [
      "Nama:  Rima \n",
      "Umur: 30 \n",
      "Status: Lajang \n",
      "Pekerjaan: Data Saintist\n"
     ]
    }
   ],
   "source": [
    "# Keyword Parameter\n",
    "\n",
    "def user(nama, umur, status, pekerjaan):\n",
    "    print(\"Nama:\",nama, \"\\nUmur:\", umur, \"\\nStatus:\", status, \"\\nPekerjaan:\", pekerjaan)\n",
    "user(pekerjaan = \"Data Saintist\", umur = 30, status = \"Lajang\", nama = \" Rima\")"
   ]
  },
  {
   "cell_type": "code",
   "execution_count": 53,
   "metadata": {},
   "outputs": [
    {
     "name": "stdout",
     "output_type": "stream",
     "text": [
      "25\n"
     ]
    }
   ],
   "source": [
    "# Dictionary\n",
    "users = {'nama':\"Iqbal\", 'umur':\"25\"}\n",
    "print(users['umur'])"
   ]
  },
  {
   "cell_type": "code",
   "execution_count": 58,
   "metadata": {},
   "outputs": [
    {
     "name": "stdout",
     "output_type": "stream",
     "text": [
      "Rima\n",
      "Budi\n",
      "DLL\n"
     ]
    }
   ],
   "source": [
    "# *args & **kwargs\n",
    "def args(*nama):\n",
    "    for x in nama:\n",
    "        print(x)\n",
    "args(\"Rima\", \"Budi\", \"DLL\")"
   ]
  },
  {
   "cell_type": "code",
   "execution_count": null,
   "metadata": {},
   "outputs": [],
   "source": []
  },
  {
   "cell_type": "code",
   "execution_count": 65,
   "metadata": {},
   "outputs": [
    {
     "name": "stdout",
     "output_type": "stream",
     "text": [
      "nama: Rima\n",
      "umur: 10\n",
      "Hobi: Main Bola\n",
      "\n",
      "nama: Roni\n",
      "umur: 20\n",
      "Hobi: Main Basket\n"
     ]
    }
   ],
   "source": [
    "# **kwargs\n",
    "def bio(**data):\n",
    "    for key, value in data.items():\n",
    "        print(key, value, sep=\": \")\n",
    "\n",
    "bio(nama = \"Rima\", umur = 10, Hobi = \"Main Bola\")\n",
    "print()\n",
    "bio(nama = \"Roni\", umur = 20, Hobi = \"Main Basket\")"
   ]
  },
  {
   "cell_type": "code",
   "execution_count": 69,
   "metadata": {},
   "outputs": [
    {
     "data": {
      "text/plain": [
       "5.0"
      ]
     },
     "execution_count": 69,
     "metadata": {},
     "output_type": "execute_result"
    }
   ],
   "source": [
    "# Lambda Function / Anonymous Function\n",
    "\n",
    "bagi = lambda x, y: x/y\n",
    "bagi(10, 2)"
   ]
  },
  {
   "cell_type": "code",
   "execution_count": 88,
   "metadata": {},
   "outputs": [
    {
     "name": "stdout",
     "output_type": "stream",
     "text": [
      "[100, 121, 144, 169, 196, 225, 256, 289, 324, 361, 400]\n"
     ]
    }
   ],
   "source": [
    "deret = [10, 11, 12, 13, 14, 15, 16, 17, 18, 19, 20]\n",
    "deret2 = [10, 11, 12, 13, 14, 15, 16, 17, 18, 19, 20]\n",
    "\n",
    "hitung = map (lambda x, y: x * y, deret, deret2)\n",
    "print(list(hitung))"
   ]
  },
  {
   "cell_type": "code",
   "execution_count": 97,
   "metadata": {},
   "outputs": [
    {
     "name": "stdout",
     "output_type": "stream",
     "text": [
      "Ini Global Scope\n",
      "Ini local scope\n"
     ]
    }
   ],
   "source": [
    "# Local and Global Scope\n",
    "globalscope = \"Ini Global Scope\"\n",
    "def gs():\n",
    "    localscope = \"Ini local scope\"\n",
    "    print(globalscope)\n",
    "    print(localscope)\n",
    "gs()"
   ]
  },
  {
   "cell_type": "code",
   "execution_count": 109,
   "metadata": {},
   "outputs": [
    {
     "name": "stdout",
     "output_type": "stream",
     "text": [
      "3.141592653589793\n"
     ]
    }
   ],
   "source": [
    "# module\n",
    "import math as matematika\n",
    "\n",
    "pi = matematika.pi\n",
    "print(pi)"
   ]
  },
  {
   "cell_type": "code",
   "execution_count": 110,
   "metadata": {},
   "outputs": [
    {
     "name": "stdout",
     "output_type": "stream",
     "text": [
      "3\n"
     ]
    }
   ],
   "source": [
    "akar = matematika.sqrt(10)\n",
    "print(int(akar))"
   ]
  },
  {
   "cell_type": "code",
   "execution_count": 112,
   "metadata": {},
   "outputs": [
    {
     "name": "stdout",
     "output_type": "stream",
     "text": [
      "linux\n"
     ]
    }
   ],
   "source": [
    "import sys\n",
    "print(sys.platform)"
   ]
  },
  {
   "cell_type": "code",
   "execution_count": 114,
   "metadata": {},
   "outputs": [
    {
     "ename": "FileExistsError",
     "evalue": "[Errno 17] File exists: 'New'",
     "output_type": "error",
     "traceback": [
      "\u001b[0;31m---------------------------------------------------------------------------\u001b[0m",
      "\u001b[0;31mFileExistsError\u001b[0m                           Traceback (most recent call last)",
      "\u001b[0;32m<ipython-input-114-879ff8ef60df>\u001b[0m in \u001b[0;36m<module>\u001b[0;34m\u001b[0m\n\u001b[1;32m      1\u001b[0m \u001b[0;32mimport\u001b[0m \u001b[0mos\u001b[0m\u001b[0;34m\u001b[0m\u001b[0;34m\u001b[0m\u001b[0m\n\u001b[1;32m      2\u001b[0m \u001b[0;34m\u001b[0m\u001b[0m\n\u001b[0;32m----> 3\u001b[0;31m \u001b[0mos\u001b[0m\u001b[0;34m.\u001b[0m\u001b[0mmkdir\u001b[0m\u001b[0;34m(\u001b[0m\u001b[0;34m\"New\"\u001b[0m\u001b[0;34m)\u001b[0m\u001b[0;34m\u001b[0m\u001b[0;34m\u001b[0m\u001b[0m\n\u001b[0m",
      "\u001b[0;31mFileExistsError\u001b[0m: [Errno 17] File exists: 'New'"
     ]
    }
   ],
   "source": [
    "import os\n",
    "\n",
    "os.mkdir(\"New\")"
   ]
  },
  {
   "cell_type": "code",
   "execution_count": 121,
   "metadata": {},
   "outputs": [
    {
     "name": "stdout",
     "output_type": "stream",
     "text": [
      "time.struct_time(tm_year=2020, tm_mon=11, tm_mday=14, tm_hour=9, tm_min=52, tm_sec=35, tm_wday=5, tm_yday=319, tm_isdst=0)\n"
     ]
    }
   ],
   "source": [
    "import time\n",
    "\n",
    "print(time.localtime())"
   ]
  },
  {
   "cell_type": "code",
   "execution_count": 128,
   "metadata": {},
   "outputs": [],
   "source": []
  }
 ],
 "metadata": {
  "kernelspec": {
   "display_name": "Python 3",
   "language": "python",
   "name": "python3"
  },
  "language_info": {
   "codemirror_mode": {
    "name": "ipython",
    "version": 3
   },
   "file_extension": ".py",
   "mimetype": "text/x-python",
   "name": "python",
   "nbconvert_exporter": "python",
   "pygments_lexer": "ipython3",
   "version": "3.8.5"
  }
 },
 "nbformat": 4,
 "nbformat_minor": 4
}
