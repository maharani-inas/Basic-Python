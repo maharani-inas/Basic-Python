{
 "cells": [
  {
   "cell_type": "markdown",
   "metadata": {},
   "source": [
    "## Operasi String"
   ]
  },
  {
   "cell_type": "raw",
   "metadata": {},
   "source": []
  },
  {
   "cell_type": "markdown",
   "metadata": {},
   "source": [
    "### Mengubah Huruf Besar/Kecil"
   ]
  },
  {
   "cell_type": "code",
   "execution_count": 1,
   "metadata": {},
   "outputs": [
    {
     "name": "stdout",
     "output_type": "stream",
     "text": [
      "BAYU\n"
     ]
    }
   ],
   "source": [
    "#Upper\n",
    "nama = \"bayu\"\n",
    "nama_cap = nama.upper()\n",
    "print(nama_cap)"
   ]
  },
  {
   "cell_type": "code",
   "execution_count": 2,
   "metadata": {},
   "outputs": [
    {
     "name": "stdout",
     "output_type": "stream",
     "text": [
      "annelies\n"
     ]
    }
   ],
   "source": [
    "#Lower\n",
    "nama = \"ANNELIES\"\n",
    "nama_lower = nama.lower()\n",
    "print(nama_lower)"
   ]
  },
  {
   "cell_type": "code",
   "execution_count": 3,
   "metadata": {},
   "outputs": [
    {
     "name": "stdout",
     "output_type": "stream",
     "text": [
      "annelies\n"
     ]
    }
   ],
   "source": [
    "print(nama.lower())"
   ]
  },
  {
   "cell_type": "markdown",
   "metadata": {},
   "source": [
    "### Awalan dan Akhiran"
   ]
  },
  {
   "cell_type": "code",
   "execution_count": 4,
   "metadata": {},
   "outputs": [
    {
     "name": "stdout",
     "output_type": "stream",
     "text": [
      "Indonesia\n"
     ]
    }
   ],
   "source": [
    "#rstrip\n",
    "rstrip = \"Indonesia           \"\n",
    "print(rstrip.rstrip())"
   ]
  },
  {
   "cell_type": "code",
   "execution_count": 5,
   "metadata": {},
   "outputs": [
    {
     "name": "stdout",
     "output_type": "stream",
     "text": [
      "Indonesia\n"
     ]
    }
   ],
   "source": [
    "#lstrip\n",
    "lstrip = \"       Indonesia\"\n",
    "print(lstrip.lstrip())"
   ]
  },
  {
   "cell_type": "code",
   "execution_count": 6,
   "metadata": {},
   "outputs": [
    {
     "name": "stdout",
     "output_type": "stream",
     "text": [
      "IndonesiaMerdeka!\n"
     ]
    }
   ],
   "source": [
    "#strip\n",
    "strip = \"    Indonesia    \"\n",
    "strip_dua = \"Merdeka!\"\n",
    "print(strip.strip() + strip_dua)"
   ]
  },
  {
   "cell_type": "code",
   "execution_count": 7,
   "metadata": {},
   "outputs": [
    {
     "name": "stdout",
     "output_type": "stream",
     "text": [
      "semuA\n"
     ]
    }
   ],
   "source": [
    "#strip => menghilangkan bagian tertentu di kalimat\n",
    "word = \"HalosemuA\"\n",
    "print(word.strip('Halo'))"
   ]
  },
  {
   "cell_type": "markdown",
   "metadata": {},
   "source": [
    "### Menggabungkan dan Memisahkan String"
   ]
  },
  {
   "cell_type": "code",
   "execution_count": 8,
   "metadata": {},
   "outputs": [
    {
     "name": "stdout",
     "output_type": "stream",
     "text": [
      "Indonesia,.,AI\n"
     ]
    }
   ],
   "source": [
    "#Join\n",
    "print(','.join(['Indonesia', '.', 'AI']))"
   ]
  },
  {
   "cell_type": "code",
   "execution_count": 9,
   "metadata": {},
   "outputs": [],
   "source": [
    "#Split\n",
    "var = \"Indonesia tanah airku\"\n",
    "var_dua = var.split(\"Indonesia\")"
   ]
  },
  {
   "cell_type": "code",
   "execution_count": 10,
   "metadata": {},
   "outputs": [
    {
     "name": "stdout",
     "output_type": "stream",
     "text": [
      "['', ' tanah airku']\n"
     ]
    }
   ],
   "source": [
    "print(var_dua)"
   ]
  },
  {
   "cell_type": "markdown",
   "metadata": {},
   "source": [
    "### Mengganti Elemen di String"
   ]
  },
  {
   "cell_type": "code",
   "execution_count": 11,
   "metadata": {},
   "outputs": [
    {
     "name": "stdout",
     "output_type": "stream",
     "text": [
      "Indonesia Negaraku\n",
      "Indonesia Tanah Airku\n"
     ]
    }
   ],
   "source": [
    "nama = \"Indonesia Negaraku\"\n",
    "print(nama)\n",
    "print(nama.replace('Negaraku', 'Tanah Airku'))"
   ]
  },
  {
   "cell_type": "code",
   "execution_count": 12,
   "metadata": {},
   "outputs": [
    {
     "name": "stdout",
     "output_type": "stream",
     "text": [
      "False\n"
     ]
    }
   ],
   "source": [
    "lower = \"Aku cinta indonesia\"\n",
    "print(lower.isalpha())"
   ]
  },
  {
   "cell_type": "markdown",
   "metadata": {},
   "source": [
    "### Lain-lain"
   ]
  },
  {
   "cell_type": "code",
   "execution_count": 13,
   "metadata": {},
   "outputs": [
    {
     "name": "stdout",
     "output_type": "stream",
     "text": [
      "Muhammad iqbal\n"
     ]
    }
   ],
   "source": [
    "nama = \"muhammad iqbal\"\n",
    "print(nama.capitalize())"
   ]
  },
  {
   "cell_type": "code",
   "execution_count": 14,
   "metadata": {},
   "outputs": [
    {
     "name": "stdout",
     "output_type": "stream",
     "text": [
      "Muhammad Iqbal\n"
     ]
    }
   ],
   "source": [
    "print(nama.title())"
   ]
  },
  {
   "cell_type": "markdown",
   "metadata": {},
   "source": [
    "## Konversi Tipe Data"
   ]
  },
  {
   "cell_type": "code",
   "execution_count": 15,
   "metadata": {},
   "outputs": [
    {
     "name": "stdout",
     "output_type": "stream",
     "text": [
      "<class 'int'>\n"
     ]
    }
   ],
   "source": [
    "#String\n",
    "angka = 1\n",
    "print(type(angka))"
   ]
  },
  {
   "cell_type": "code",
   "execution_count": 16,
   "metadata": {},
   "outputs": [
    {
     "name": "stdout",
     "output_type": "stream",
     "text": [
      "<class 'str'>\n",
      "1\n"
     ]
    }
   ],
   "source": [
    "angka_dua = str(angka)\n",
    "print(type(angka_dua))\n",
    "print(angka_dua)"
   ]
  },
  {
   "cell_type": "code",
   "execution_count": 17,
   "metadata": {},
   "outputs": [
    {
     "name": "stdout",
     "output_type": "stream",
     "text": [
      "<class 'float'>\n"
     ]
    }
   ],
   "source": [
    "#Integer\n",
    "float = 1.5\n",
    "print(type(float))"
   ]
  },
  {
   "cell_type": "code",
   "execution_count": 18,
   "metadata": {},
   "outputs": [
    {
     "name": "stdout",
     "output_type": "stream",
     "text": [
      "1\n"
     ]
    }
   ],
   "source": [
    "float_dua = int(float)\n",
    "print(float_dua)"
   ]
  },
  {
   "cell_type": "code",
   "execution_count": 19,
   "metadata": {},
   "outputs": [
    {
     "name": "stdout",
     "output_type": "stream",
     "text": [
      "<class 'int'>\n"
     ]
    }
   ],
   "source": [
    "print(type(float_dua))"
   ]
  },
  {
   "cell_type": "markdown",
   "metadata": {},
   "source": []
  },
  {
   "cell_type": "code",
   "execution_count": 20,
   "metadata": {},
   "outputs": [
    {
     "ename": "TypeError",
     "evalue": "'float' object is not callable",
     "output_type": "error",
     "traceback": [
      "\u001b[0;31m---------------------------------------------------------------------------\u001b[0m",
      "\u001b[0;31mTypeError\u001b[0m                                 Traceback (most recent call last)",
      "\u001b[0;32m<ipython-input-20-34b9bfe415f9>\u001b[0m in \u001b[0;36m<module>\u001b[0;34m\u001b[0m\n\u001b[1;32m      1\u001b[0m \u001b[0mx_satu\u001b[0m \u001b[0;34m=\u001b[0m \u001b[0;36m1\u001b[0m\u001b[0;34m\u001b[0m\u001b[0;34m\u001b[0m\u001b[0m\n\u001b[0;32m----> 2\u001b[0;31m \u001b[0mprint\u001b[0m\u001b[0;34m(\u001b[0m\u001b[0mfloat\u001b[0m\u001b[0;34m(\u001b[0m\u001b[0mx_satu\u001b[0m\u001b[0;34m)\u001b[0m\u001b[0;34m)\u001b[0m\u001b[0;34m\u001b[0m\u001b[0;34m\u001b[0m\u001b[0m\n\u001b[0m",
      "\u001b[0;31mTypeError\u001b[0m: 'float' object is not callable"
     ]
    }
   ],
   "source": [
    "x_satu = 1\n",
    "print(float(x_satu))"
   ]
  },
  {
   "cell_type": "markdown",
   "metadata": {},
   "source": [
    "## Cara lain untuk print"
   ]
  },
  {
   "cell_type": "code",
   "execution_count": null,
   "metadata": {},
   "outputs": [],
   "source": [
    "print('Halo {}'.format('Semuanya'))"
   ]
  },
  {
   "cell_type": "code",
   "execution_count": null,
   "metadata": {},
   "outputs": [],
   "source": [
    "var = \"Indonesia\"\n",
    "print('Aku cinta %s' % var)"
   ]
  },
  {
   "cell_type": "code",
   "execution_count": null,
   "metadata": {},
   "outputs": [],
   "source": [
    "var_dua = 1234\n",
    "print('Berhitung mulai dari %d' % var_dua)"
   ]
  },
  {
   "cell_type": "markdown",
   "metadata": {},
   "source": [
    "## Input Data"
   ]
  },
  {
   "cell_type": "code",
   "execution_count": null,
   "metadata": {},
   "outputs": [],
   "source": [
    "nama_satu = input('Siapa Nama Kamu?')\n",
    "print(type(nama_satu))"
   ]
  },
  {
   "cell_type": "code",
   "execution_count": null,
   "metadata": {},
   "outputs": [],
   "source": [
    "tambah = input(\"Masukkan Angka: \")\n",
    "tambah_dua = 200\n",
    "tambah_tiga = int(tambah) + 200\n",
    "print(tambah_tiga)"
   ]
  },
  {
   "cell_type": "markdown",
   "metadata": {},
   "source": [
    "## If, Else, Elif"
   ]
  },
  {
   "cell_type": "markdown",
   "metadata": {},
   "source": []
  },
  {
   "cell_type": "code",
   "execution_count": null,
   "metadata": {},
   "outputs": [],
   "source": [
    "#if\n",
    "y = 40\n",
    "z = 200\n",
    "w = y < z\n",
    "print(w)\n",
    "if w == True:\n",
    "    print(\"ternyata 40 lebih kecil dari 100\")"
   ]
  },
  {
   "cell_type": "code",
   "execution_count": null,
   "metadata": {},
   "outputs": [],
   "source": [
    "#else\n",
    "var_x = 0\n",
    "if var_x > 1:\n",
    "    print(\"5 besar dari 1\")\n",
    "else:\n",
    "    print(\"Enggak benar, nih!\")"
   ]
  },
  {
   "cell_type": "code",
   "execution_count": null,
   "metadata": {},
   "outputs": [],
   "source": [
    "masukkan = int(input(\"Masukkan angka: \"))\n",
    "var_y = 10\n",
    "if masukkan < var_y:\n",
    "    print(masukkan, 'lebih kecil dari', var_y)\n",
    "else:\n",
    "    print(masukkan, 'Lebih besar', var_y)"
   ]
  },
  {
   "cell_type": "markdown",
   "metadata": {},
   "source": []
  },
  {
   "cell_type": "code",
   "execution_count": null,
   "metadata": {},
   "outputs": [],
   "source": [
    "#elif\n",
    "your_name = input(\"Masukkan Nama Anda!\")\n",
    "time = int(input(\"Pukul berapa Anda datang?\"))\n",
    "masuk = 8\n",
    "limit = 10\n",
    "print(\"Halo\", your_name)\n",
    "if time == 8:\n",
    "    print(\"Wah! Anda datang tepat waktu, %s!\" % your_name)\n",
    "elif time < 8:\n",
    "    print(\"Wah, Anda sangat rajin, %s!\" % your_name)\n",
    "elif time > 8 & time < limit:\n",
    "    print(\"Kenapa Anda terlambat, %s?\" % your_name)\n",
    "else:\n",
    "    print(\"Anda dipotong gaji!\")"
   ]
  },
  {
   "cell_type": "markdown",
   "metadata": {},
   "source": [
    "## Loop"
   ]
  },
  {
   "cell_type": "code",
   "execution_count": null,
   "metadata": {},
   "outputs": [],
   "source": [
    "foods = ['Kebab', 'Burger', 'Kofta']\n",
    "for elemen in foods:\n",
    "    print(\"Saya ingin makan %s\" % elemen)"
   ]
  },
  {
   "cell_type": "code",
   "execution_count": null,
   "metadata": {},
   "outputs": [],
   "source": [
    "angka_ = [1, 2, 3, 4, 5, 6, 7]\n",
    "for nomor in angka_:\n",
    "    print(nomor)"
   ]
  },
  {
   "cell_type": "markdown",
   "metadata": {},
   "source": [
    "# While"
   ]
  },
  {
   "cell_type": "code",
   "execution_count": null,
   "metadata": {},
   "outputs": [],
   "source": [
    "t = 1\n",
    "while t <= 10:\n",
    "    print(t)\n",
    "    t += 1"
   ]
  },
  {
   "cell_type": "code",
   "execution_count": 21,
   "metadata": {},
   "outputs": [
    {
     "name": "stdout",
     "output_type": "stream",
     "text": [
      "Masukkan Angka 7\n",
      "1\n",
      "2\n",
      "3\n",
      "4\n",
      "5\n",
      "6\n",
      "7\n",
      "Angka 7 ditemukan\n"
     ]
    }
   ],
   "source": [
    "input_angka = int(input(\"Masukkan Angka \"))\n",
    "angka_z = [1, 2 ,3 ,4 ,5 ,6 ,7 ,8 ,9 ,10]\n",
    "for a in angka_z:\n",
    "    print(a)\n",
    "    if a == input_angka:\n",
    "        print(\"Angka %d ditemukan\" % input_angka)\n",
    "        break"
   ]
  },
  {
   "cell_type": "code",
   "execution_count": null,
   "metadata": {},
   "outputs": [],
   "source": []
  }
 ],
 "metadata": {
  "kernelspec": {
   "display_name": "Python 3",
   "language": "python",
   "name": "python3"
  },
  "language_info": {
   "codemirror_mode": {
    "name": "ipython",
    "version": 3
   },
   "file_extension": ".py",
   "mimetype": "text/x-python",
   "name": "python",
   "nbconvert_exporter": "python",
   "pygments_lexer": "ipython3",
   "version": "3.8.5"
  }
 },
 "nbformat": 4,
 "nbformat_minor": 4
}
