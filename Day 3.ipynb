{
 "cells": [
  {
   "cell_type": "code",
   "execution_count": 3,
   "metadata": {},
   "outputs": [
    {
     "name": "stdout",
     "output_type": "stream",
     "text": [
      "1\n",
      "2\n",
      "3\n",
      "4\n",
      "5\n",
      "6\n",
      "7\n",
      "8\n",
      "angka 8 ditemukan\n"
     ]
    }
   ],
   "source": [
    "#Break\n",
    "numbers = [1,2,3,4,5,6,7,8,9,10]\n",
    "for num in numbers:\n",
    "    print(num)\n",
    "    if num ==8 :\n",
    "        print(\"angka 8 ditemukan\")\n",
    "        break"
   ]
  },
  {
   "cell_type": "code",
   "execution_count": 7,
   "metadata": {},
   "outputs": [
    {
     "name": "stdout",
     "output_type": "stream",
     "text": [
      "11\n",
      "13\n",
      "14\n",
      "15\n",
      "17\n",
      "18\n",
      "19\n"
     ]
    }
   ],
   "source": [
    "#Continue\n",
    "numbers = [11,12,13,14,15,16,17,18,19,20]\n",
    "for nums in numbers:\n",
    "    if nums %4==0 :\n",
    "        continue\n",
    "    print(nums)\n",
    "        "
   ]
  },
  {
   "cell_type": "code",
   "execution_count": 9,
   "metadata": {},
   "outputs": [],
   "source": [
    "#Pass\n",
    "for x in range (1,14):\n",
    "    pass"
   ]
  },
  {
   "cell_type": "markdown",
   "metadata": {},
   "source": [
    "# Function"
   ]
  },
  {
   "cell_type": "code",
   "execution_count": 11,
   "metadata": {},
   "outputs": [
    {
     "name": "stdout",
     "output_type": "stream",
     "text": [
      "Hallo, Guten Tag\n"
     ]
    }
   ],
   "source": [
    "#mendefinisikan function\n",
    "def sapa():\n",
    "    print(\"Hallo, Guten Tag\")\n",
    "sapa ()"
   ]
  },
  {
   "cell_type": "code",
   "execution_count": 14,
   "metadata": {},
   "outputs": [
    {
     "name": "stdout",
     "output_type": "stream",
     "text": [
      "Hallo Lea Guten Morgen !\n"
     ]
    }
   ],
   "source": [
    "#Argumen dan Parameter\n",
    "def greet(name, time):\n",
    "    print(\"Hallo\", name, \"Guten\", time,\"!\")\n",
    "greet(\"Lea\", \"Morgen\")"
   ]
  },
  {
   "cell_type": "code",
   "execution_count": 16,
   "metadata": {},
   "outputs": [
    {
     "name": "stdout",
     "output_type": "stream",
     "text": [
      "8\n"
     ]
    }
   ],
   "source": [
    "def s(x,y) :\n",
    "    s=x*y\n",
    "    print(s)\n",
    "s(2,4)"
   ]
  },
  {
   "cell_type": "code",
   "execution_count": 18,
   "metadata": {},
   "outputs": [
    {
     "data": {
      "text/plain": [
       "10"
      ]
     },
     "execution_count": 18,
     "metadata": {},
     "output_type": "execute_result"
    }
   ],
   "source": [
    "#return\n",
    "def f():\n",
    "    return 7+3\n",
    "    print(\"Halo\")\n",
    "f()"
   ]
  },
  {
   "cell_type": "code",
   "execution_count": 20,
   "metadata": {},
   "outputs": [
    {
     "name": "stdout",
     "output_type": "stream",
     "text": [
      "Your Number : 7\n"
     ]
    },
    {
     "data": {
      "text/plain": [
       "700"
      ]
     },
     "execution_count": 20,
     "metadata": {},
     "output_type": "execute_result"
    }
   ],
   "source": [
    "n=int(input(\"Your Number : \"))\n",
    "\n",
    "def a(x):\n",
    "    if x<=5:\n",
    "        return x*10\n",
    "    else:\n",
    "        return x*100\n",
    "a(n)"
   ]
  },
  {
   "cell_type": "code",
   "execution_count": 24,
   "metadata": {},
   "outputs": [
    {
     "ename": "TypeError",
     "evalue": "age() missing 1 required positional argument: 'age'",
     "output_type": "error",
     "traceback": [
      "\u001b[1;31m---------------------------------------------------------------------------\u001b[0m",
      "\u001b[1;31mTypeError\u001b[0m                                 Traceback (most recent call last)",
      "\u001b[1;32m<ipython-input-24-e4d72e8aa0d9>\u001b[0m in \u001b[0;36m<module>\u001b[1;34m\u001b[0m\n\u001b[0;32m      2\u001b[0m \u001b[1;32mdef\u001b[0m \u001b[0mage\u001b[0m\u001b[1;33m(\u001b[0m\u001b[0mname\u001b[0m\u001b[1;33m,\u001b[0m \u001b[0mage\u001b[0m\u001b[1;33m)\u001b[0m\u001b[1;33m:\u001b[0m\u001b[1;33m\u001b[0m\u001b[1;33m\u001b[0m\u001b[0m\n\u001b[0;32m      3\u001b[0m     \u001b[0mprint\u001b[0m\u001b[1;33m(\u001b[0m\u001b[1;34m\"Name :\"\u001b[0m\u001b[1;33m,\u001b[0m \u001b[0mname\u001b[0m \u001b[1;33m,\u001b[0m \u001b[0mage\u001b[0m\u001b[1;33m,\u001b[0m \u001b[1;34m\"years old\"\u001b[0m\u001b[1;33m)\u001b[0m\u001b[1;33m\u001b[0m\u001b[1;33m\u001b[0m\u001b[0m\n\u001b[1;32m----> 4\u001b[1;33m \u001b[0mage\u001b[0m\u001b[1;33m(\u001b[0m\u001b[1;34m\"Rima\"\u001b[0m\u001b[1;33m)\u001b[0m\u001b[1;33m\u001b[0m\u001b[1;33m\u001b[0m\u001b[0m\n\u001b[0m",
      "\u001b[1;31mTypeError\u001b[0m: age() missing 1 required positional argument: 'age'"
     ]
    }
   ],
   "source": [
    "#Default parameter\n",
    "def age(name, age):\n",
    "    print(\"Name :\", name , age, \"years old\")\n",
    "age(\"Rima\")"
   ]
  },
  {
   "cell_type": "code",
   "execution_count": 23,
   "metadata": {},
   "outputs": [
    {
     "name": "stdout",
     "output_type": "stream",
     "text": [
      "Name : Rima 19 years old\n"
     ]
    }
   ],
   "source": [
    "#Default parameter\n",
    "def age(name, age = '19'):\n",
    "    print(\"Name :\", name , age, \"years old\")\n",
    "age(\"Rima\")"
   ]
  },
  {
   "cell_type": "code",
   "execution_count": 26,
   "metadata": {},
   "outputs": [
    {
     "name": "stdout",
     "output_type": "stream",
     "text": [
      "Nama : Linda \n",
      "Umur : 30 \n",
      "Status : lajang \n",
      "Pekerjaan : Data scientist\n"
     ]
    }
   ],
   "source": [
    "#Keyword Parameter\n",
    "\n",
    "def user(nama, umur, status, pekerjaan):\n",
    "    print(\"Nama :\", nama,\"\\nUmur :\",umur,\"\\nStatus :\", status,\"\\nPekerjaan :\", pekerjaan)\n",
    "\n",
    "user(pekerjaan = \"Data scientist\", umur = 30, status = \"lajang\", nama = \"Linda\")"
   ]
  },
  {
   "cell_type": "code",
   "execution_count": 28,
   "metadata": {},
   "outputs": [
    {
     "name": "stdout",
     "output_type": "stream",
     "text": [
      "19\n"
     ]
    }
   ],
   "source": [
    "#Dictionary\n",
    "users = {'nama':\"Lea\", 'umur' : \"19\"}\n",
    "print(users['umur'])"
   ]
  },
  {
   "cell_type": "code",
   "execution_count": 30,
   "metadata": {},
   "outputs": [
    {
     "data": {
      "text/plain": [
       "2"
      ]
     },
     "execution_count": 30,
     "metadata": {},
     "output_type": "execute_result"
    }
   ],
   "source": [
    "#*args & **kwargs\n",
    "def a(*num):\n",
    "    for x in num:\n",
    "        return x*2\n",
    "a(1,2,3,4,5,6)\n"
   ]
  },
  {
   "cell_type": "code",
   "execution_count": 31,
   "metadata": {},
   "outputs": [
    {
     "name": "stdout",
     "output_type": "stream",
     "text": [
      "Rima\n",
      "Budi\n",
      "dll\n"
     ]
    }
   ],
   "source": [
    "def ar(*nama):\n",
    "    for x in nama:\n",
    "        print(x)\n",
    "ar (\"Rima\",\"Budi\", \"dll\")"
   ]
  },
  {
   "cell_type": "code",
   "execution_count": 34,
   "metadata": {},
   "outputs": [
    {
     "name": "stdout",
     "output_type": "stream",
     "text": [
      "nama: Rima\n",
      "umur: 10\n",
      "Hobi: main biola\n",
      "\n",
      "nama: Royz\n",
      "umur: 15\n",
      "Hobi: main bola\n"
     ]
    }
   ],
   "source": [
    "def bio(**data):\n",
    "    for key,value in data.items():\n",
    "        print(key, value,sep=': ')\n",
    "        \n",
    "bio(nama=\"Rima\", umur =10,Hobi=\"main biola\")\n",
    "print()\n",
    "bio(nama=\"Royz\", umur =15,Hobi=\"main bola\")"
   ]
  },
  {
   "cell_type": "code",
   "execution_count": 35,
   "metadata": {},
   "outputs": [
    {
     "data": {
      "text/plain": [
       "5.0"
      ]
     },
     "execution_count": 35,
     "metadata": {},
     "output_type": "execute_result"
    }
   ],
   "source": [
    "#anonymous funtion\n",
    "#lambda function\n",
    "\n",
    "bagi = lambda x,y : x/y\n",
    "bagi (10,2)"
   ]
  },
  {
   "cell_type": "code",
   "execution_count": 38,
   "metadata": {},
   "outputs": [
    {
     "name": "stdout",
     "output_type": "stream",
     "text": [
      "Halo\n"
     ]
    }
   ],
   "source": [
    "def contoh():\n",
    "    print(\"Halo\")\n",
    "sapa=contoh()"
   ]
  },
  {
   "cell_type": "code",
   "execution_count": 41,
   "metadata": {},
   "outputs": [
    {
     "name": "stdout",
     "output_type": "stream",
     "text": [
      "[10, 11, 12, 13, 14, 15, 16, 17, 18, 19, 20]\n",
      "[260, 286, 312, 338, 364, 390, 416, 442, 468, 494, 520]\n"
     ]
    }
   ],
   "source": [
    "deret = [10,11,12,13,14,15,16,17,18,19,20]\n",
    "hitung=map(lambda x : x*26 , deret)\n",
    "print(list(deret))\n",
    "print(list(hitung))"
   ]
  },
  {
   "cell_type": "code",
   "execution_count": 42,
   "metadata": {},
   "outputs": [
    {
     "name": "stdout",
     "output_type": "stream",
     "text": [
      "[100, 121, 144, 169, 196, 225, 256, 289, 324, 361, 400]\n"
     ]
    }
   ],
   "source": [
    "deret1 = [10,11,12,13,14,15,16,17,18,19,20]\n",
    "deret2 = [10,11,12,13,14,15,16,17,18,19,20]\n",
    "hitung=map(lambda x,y : x*y , deret1,deret2)\n",
    "print(list(hitung))"
   ]
  },
  {
   "cell_type": "code",
   "execution_count": 45,
   "metadata": {},
   "outputs": [
    {
     "name": "stdout",
     "output_type": "stream",
     "text": [
      "40\n"
     ]
    }
   ],
   "source": [
    "a1 = 70\n",
    "def numbers():\n",
    "    a1=40\n",
    "    print(a1)\n",
    "numbers()"
   ]
  },
  {
   "cell_type": "code",
   "execution_count": 50,
   "metadata": {},
   "outputs": [
    {
     "name": "stdout",
     "output_type": "stream",
     "text": [
      "Ini Global scope\n",
      "Ini local scope\n"
     ]
    }
   ],
   "source": [
    "#local and global scope\n",
    "globalscope = \"Ini Global scope\"\n",
    "def gs():\n",
    "    localscope = \"Ini local scope\"\n",
    "    print(globalscope)\n",
    "    print(localscope)\n",
    "gs()"
   ]
  },
  {
   "cell_type": "code",
   "execution_count": 55,
   "metadata": {},
   "outputs": [
    {
     "name": "stdout",
     "output_type": "stream",
     "text": [
      "3.141592653589793\n"
     ]
    }
   ],
   "source": [
    "#Module\n",
    "import math \n",
    "#tambahkan as mtk for example utk memanggil pakai nama lain\n",
    "pi=math.pi\n",
    "print(pi)"
   ]
  },
  {
   "cell_type": "code",
   "execution_count": 54,
   "metadata": {},
   "outputs": [
    {
     "name": "stdout",
     "output_type": "stream",
     "text": [
      "10.0\n",
      "10\n"
     ]
    }
   ],
   "source": [
    "akar=math.sqrt(100)\n",
    "print(akar)\n",
    "print(int(akar))"
   ]
  },
  {
   "cell_type": "code",
   "execution_count": 56,
   "metadata": {},
   "outputs": [
    {
     "name": "stdout",
     "output_type": "stream",
     "text": [
      "win32\n"
     ]
    }
   ],
   "source": [
    "import sys\n",
    "print(sys.platform)"
   ]
  },
  {
   "cell_type": "code",
   "execution_count": 63,
   "metadata": {},
   "outputs": [
    {
     "name": "stdout",
     "output_type": "stream",
     "text": [
      "1605340297.9452498\n",
      "time.struct_time(tm_year=2020, tm_mon=11, tm_mday=14, tm_hour=14, tm_min=51, tm_sec=37, tm_wday=5, tm_yday=319, tm_isdst=0)\n"
     ]
    }
   ],
   "source": [
    "import time\n",
    "\n",
    "print(time.time())\n",
    "print(time.localtime())"
   ]
  },
  {
   "cell_type": "code",
   "execution_count": null,
   "metadata": {},
   "outputs": [],
   "source": []
  }
 ],
 "metadata": {
  "kernelspec": {
   "display_name": "Python 3",
   "language": "python",
   "name": "python3"
  },
  "language_info": {
   "codemirror_mode": {
    "name": "ipython",
    "version": 3
   },
   "file_extension": ".py",
   "mimetype": "text/x-python",
   "name": "python",
   "nbconvert_exporter": "python",
   "pygments_lexer": "ipython3",
   "version": "3.9.0"
  }
 },
 "nbformat": 4,
 "nbformat_minor": 4
}
