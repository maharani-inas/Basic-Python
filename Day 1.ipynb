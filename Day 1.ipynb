{
 "cells": [
  {
   "cell_type": "code",
   "execution_count": 1,
   "metadata": {},
   "outputs": [
    {
     "name": "stdout",
     "output_type": "stream",
     "text": [
      "Hello World\n"
     ]
    }
   ],
   "source": [
    "print ('Hello World')"
   ]
  },
  {
   "cell_type": "code",
   "execution_count": 2,
   "metadata": {},
   "outputs": [
    {
     "name": "stdout",
     "output_type": "stream",
     "text": [
      "Guten Tag\n"
     ]
    }
   ],
   "source": [
    "salam = 'Guten Tag'\n",
    "print (salam)"
   ]
  },
  {
   "cell_type": "code",
   "execution_count": 6,
   "metadata": {},
   "outputs": [
    {
     "name": "stdout",
     "output_type": "stream",
     "text": [
      "Budi 123 .\n",
      "Budi-123-.\n",
      "Hallo Guten Tag. Wie geht es dir?\n"
     ]
    }
   ],
   "source": [
    "print ('Budi', 123, '.')\n",
    "print ('Budi', 123, '.', sep='-')\n",
    "print ('Hallo Guten Tag', end='. ')\n",
    "print ('Wie geht es dir?')"
   ]
  },
  {
   "cell_type": "code",
   "execution_count": 7,
   "metadata": {},
   "outputs": [
    {
     "name": "stdout",
     "output_type": "stream",
     "text": [
      "100\n",
      "3.6\n",
      "(1+3j)\n",
      "<class 'int'>\n",
      "<class 'float'>\n",
      "<class 'complex'>\n"
     ]
    }
   ],
   "source": [
    "i = 100\n",
    "f = 3.6\n",
    "c = 1+3j\n",
    "print(i)\n",
    "print(f)\n",
    "print(c)\n",
    "print(type(i))\n",
    "print(type(f))\n",
    "print(type(c))"
   ]
  },
  {
   "cell_type": "code",
   "execution_count": 8,
   "metadata": {},
   "outputs": [
    {
     "name": "stdout",
     "output_type": "stream",
     "text": [
      "Indonesia\n",
      "<class 'str'>\n",
      "True\n",
      "<class 'bool'>\n"
     ]
    }
   ],
   "source": [
    "s=\"Indonesia\"\n",
    "print(s)\n",
    "print(type(s))\n",
    "b=True\n",
    "print(b)\n",
    "print(type(b))"
   ]
  },
  {
   "cell_type": "code",
   "execution_count": 9,
   "metadata": {},
   "outputs": [
    {
     "name": "stdout",
     "output_type": "stream",
     "text": [
      "False\n",
      "True\n"
     ]
    }
   ],
   "source": [
    "n=0\n",
    "print(bool(n))\n",
    "n=1\n",
    "print (bool (n))"
   ]
  },
  {
   "cell_type": "code",
   "execution_count": 10,
   "metadata": {},
   "outputs": [
    {
     "name": "stdout",
     "output_type": "stream",
     "text": [
      "50\n"
     ]
    }
   ],
   "source": [
    "n1=20\n",
    "n2=30\n",
    "n=n1+n2\n",
    "print(n)"
   ]
  },
  {
   "cell_type": "code",
   "execution_count": 11,
   "metadata": {},
   "outputs": [
    {
     "name": "stdout",
     "output_type": "stream",
     "text": [
      "2030\n"
     ]
    }
   ],
   "source": [
    "n1='20'\n",
    "n2='30'\n",
    "n=n1+n2\n",
    "print (n)"
   ]
  },
  {
   "cell_type": "code",
   "execution_count": 12,
   "metadata": {},
   "outputs": [
    {
     "name": "stdout",
     "output_type": "stream",
     "text": [
      "3\n",
      "10\n",
      "2.5\n",
      "2\n",
      "1\n",
      "25\n"
     ]
    }
   ],
   "source": [
    "x=5\n",
    "y=2\n",
    "a=x-y\n",
    "print(a) \n",
    "b=x*y\n",
    "print (b)\n",
    "c=x/y\n",
    "print (c)\n",
    "d=x//y\n",
    "print(d)\n",
    "e = x%y #modulus\n",
    "print (e)\n",
    "f=x**y #pangkat\n",
    "print(f)"
   ]
  },
  {
   "cell_type": "code",
   "execution_count": 13,
   "metadata": {},
   "outputs": [
    {
     "name": "stdout",
     "output_type": "stream",
     "text": [
      "gimme gimme gimme gimme gimme \n"
     ]
    }
   ],
   "source": [
    "xa='gimme '\n",
    "print (xa*5)"
   ]
  },
  {
   "cell_type": "code",
   "execution_count": 17,
   "metadata": {},
   "outputs": [
    {
     "name": "stdout",
     "output_type": "stream",
     "text": [
      "9\n",
      "4\n",
      "24\n",
      "4.0\n"
     ]
    }
   ],
   "source": [
    "a1=4\n",
    "a1 +=5\n",
    "print (a1)\n",
    "a1-=5\n",
    "print (a1)\n",
    "a1*=6\n",
    "print (a1)\n",
    "a1/=6\n",
    "print (a1)"
   ]
  },
  {
   "cell_type": "code",
   "execution_count": 18,
   "metadata": {},
   "outputs": [
    {
     "name": "stdout",
     "output_type": "stream",
     "text": [
      "False\n",
      "True\n",
      "False\n"
     ]
    }
   ],
   "source": [
    "x=4\n",
    "y=8\n",
    "aa=x>y\n",
    "print (aa)\n",
    "aa=x<y\n",
    "print (aa)\n",
    "aa=x==y\n",
    "print (aa)"
   ]
  },
  {
   "cell_type": "code",
   "execution_count": null,
   "metadata": {},
   "outputs": [],
   "source": []
  }
 ],
 "metadata": {
  "kernelspec": {
   "display_name": "Python 3",
   "language": "python",
   "name": "python3"
  },
  "language_info": {
   "codemirror_mode": {
    "name": "ipython",
    "version": 3
   },
   "file_extension": ".py",
   "mimetype": "text/x-python",
   "name": "python",
   "nbconvert_exporter": "python",
   "pygments_lexer": "ipython3",
   "version": "3.9.0"
  }
 },
 "nbformat": 4,
 "nbformat_minor": 4
}
